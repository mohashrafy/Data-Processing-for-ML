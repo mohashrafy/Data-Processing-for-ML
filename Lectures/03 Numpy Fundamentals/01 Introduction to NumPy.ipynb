{
 "cells": [
  {
   "cell_type": "markdown",
   "metadata": {},
   "source": [
    "<img src=\"./images/banner.png\" width=\"800\">"
   ]
  },
  {
   "cell_type": "markdown",
   "metadata": {},
   "source": [
    "# Introduction to NumPy"
   ]
  },
  {
   "cell_type": "markdown",
   "metadata": {
    "vscode": {
     "languageId": "plaintext"
    }
   },
   "source": [
    "**NumPy** (Numerical Python) is a fundamental package for scientific computing in Python. It provides support for large, multi-dimensional arrays and matrices, along with a vast collection of mathematical functions to operate on these arrays efficiently."
   ]
  },
  {
   "cell_type": "markdown",
   "metadata": {},
   "source": [
    "At its core, NumPy offers the `ndarray` object, which is a powerful n-dimensional array data structure. These arrays enable efficient storage and manipulation of large datasets, making NumPy an essential tool for data science, machine learning, and computational physics applications.\n"
   ]
  },
  {
   "cell_type": "markdown",
   "metadata": {},
   "source": [
    "<img src=\"./images/numpy-arrays.png\" width=\"800\">"
   ]
  },
  {
   "cell_type": "markdown",
   "metadata": {},
   "source": [
    "Some key features of NumPy include:\n",
    "\n",
    "- **Efficient memory usage:** NumPy arrays are stored in contiguous memory blocks, allowing for faster access and computation compared to traditional Python lists.\n",
    "- **Vectorized operations:** NumPy provides a wide range of mathematical functions that operate on entire arrays, eliminating the need for explicit loops and resulting in concise and efficient code.\n",
    "- **Broadcasting:** NumPy allows arrays with different shapes to be used in arithmetic operations, enabling efficient and intuitive computations.\n"
   ]
  },
  {
   "cell_type": "markdown",
   "metadata": {},
   "source": [
    "Here's a simple example showcasing the creation of a NumPy array:"
   ]
  },
  {
   "cell_type": "code",
   "execution_count": 1,
   "metadata": {},
   "outputs": [
    {
     "data": {
      "text/plain": [
       "array([1, 2, 3, 4, 5])"
      ]
     },
     "execution_count": 1,
     "metadata": {},
     "output_type": "execute_result"
    }
   ],
   "source": [
    "import numpy as np\n",
    "\n",
    "arr = np.array([1, 2, 3, 4, 5])\n",
    "arr"
   ]
  },
  {
   "cell_type": "markdown",
   "metadata": {},
   "source": [
    "NumPy was created in 2005 by Travis Oliphant, building upon the earlier Numeric library. Its development was driven by the need for a powerful numerical computing tool in Python that could efficiently handle large arrays and matrices.\n"
   ]
  },
  {
   "cell_type": "markdown",
   "metadata": {},
   "source": [
    "Over the years, NumPy has become an integral part of the scientific Python ecosystem. It serves as the foundation for many other popular libraries, such as:\n",
    "\n",
    "- **SciPy:** A library for scientific computing that builds upon NumPy, providing additional functionality for optimization, signal processing, and more.\n",
    "- **Pandas:** A data manipulation library that uses NumPy arrays as its underlying data structure.\n",
    "- **Matplotlib:** A plotting library that relies on NumPy for numerical computations and data representation.\n"
   ]
  },
  {
   "cell_type": "markdown",
   "metadata": {},
   "source": [
    "NumPy's development is actively maintained by a dedicated team of contributors, ensuring its continued improvement and compatibility with the latest advancements in the Python ecosystem.\n"
   ]
  },
  {
   "cell_type": "markdown",
   "metadata": {},
   "source": [
    "The combination of NumPy's efficient array operations, extensive mathematical functions, and seamless integration with other libraries has made it a fundamental tool for data scientists, researchers, and developers working with numerical data in Python.\n"
   ]
  },
  {
   "cell_type": "markdown",
   "metadata": {},
   "source": [
    "In the following sections, we will explore the advantages of using NumPy and dive deeper into its key features and capabilities."
   ]
  },
  {
   "cell_type": "markdown",
   "metadata": {},
   "source": [
    "**Table of contents**<a id='toc0_'></a>    \n",
    "- [Advantages of using NumPy for Numerical Computing](#toc1_)    \n",
    "  - [Efficiency and Performance](#toc1_1_)    \n",
    "  - [Ease of Use and Readability](#toc1_2_)    \n",
    "  - [Integration with Other Libraries](#toc1_3_)    \n",
    "- [Key Features and Capabilities of NumPy](#toc2_)    \n",
    "  - [Multi-dimensional Arrays](#toc2_1_)    \n",
    "  - [Mathematical Functions](#toc2_2_)    \n",
    "  - [Broadcasting](#toc2_3_)    \n",
    "  - [Indexing and Slicing](#toc2_4_)    \n",
    "  - [Random Number Generation](#toc2_5_)    \n",
    "  - [Saving and Loading Data](#toc2_6_)    \n",
    "- [NumPy in the Data Science Ecosystem](#toc3_)    \n",
    "  - [Relation to Other Data Science Libraries](#toc3_1_)    \n",
    "  - [Real-world Applications](#toc3_2_)    \n",
    "- [Getting Started with NumPy](#toc4_)    \n",
    "  - [Installation](#toc4_1_)    \n",
    "  - [Importing NumPy](#toc4_2_)    \n",
    "  - [Basic Usage Examples](#toc4_3_)    \n",
    "- [Summary and Conclusion](#toc5_)    \n",
    "\n",
    "<!-- vscode-jupyter-toc-config\n",
    "\tnumbering=false\n",
    "\tanchor=true\n",
    "\tflat=false\n",
    "\tminLevel=2\n",
    "\tmaxLevel=6\n",
    "\t/vscode-jupyter-toc-config -->\n",
    "<!-- THIS CELL WILL BE REPLACED ON TOC UPDATE. DO NOT WRITE YOUR TEXT IN THIS CELL -->"
   ]
  },
  {
   "cell_type": "markdown",
   "metadata": {},
   "source": [
    "## <a id='toc1_'></a>[Advantages of using NumPy for Numerical Computing](#toc0_)"
   ]
  },
  {
   "cell_type": "markdown",
   "metadata": {},
   "source": [
    "NumPy offers several significant advantages that make it a powerful tool for numerical computing in Python. Let's explore these advantages in detail.\n"
   ]
  },
  {
   "cell_type": "markdown",
   "metadata": {},
   "source": [
    "### <a id='toc1_1_'></a>[Efficiency and Performance](#toc0_)\n"
   ]
  },
  {
   "cell_type": "markdown",
   "metadata": {},
   "source": [
    "One of the primary advantages of using NumPy is its efficiency and performance. NumPy is designed to handle large arrays and matrices with ease, offering a significant speed boost compared to traditional Python lists.\n"
   ]
  },
  {
   "cell_type": "markdown",
   "metadata": {},
   "source": [
    "Here are a few reasons why NumPy is more efficient:\n",
    "\n",
    "1. **Contiguous memory allocation:** NumPy arrays are stored in contiguous memory blocks, allowing for faster access and manipulation of elements. This contiguous memory layout enables CPU vectorization and cache optimization, resulting in improved performance.\n",
    "\n",
    "2. **Vectorized operations:** NumPy provides a wide range of mathematical functions that operate on entire arrays, eliminating the need for explicit loops. These vectorized operations are implemented in optimized C code, which executes much faster than pure Python code.\n"
   ]
  },
  {
   "cell_type": "markdown",
   "metadata": {},
   "source": [
    "<img src=\"./images/array-list.png\" width=\"600\">"
   ]
  },
  {
   "cell_type": "markdown",
   "metadata": {},
   "source": [
    "For example, let's compare the performance of adding two arrays using Python lists and NumPy arrays:\n"
   ]
  },
  {
   "cell_type": "code",
   "execution_count": 2,
   "metadata": {},
   "outputs": [
    {
     "name": "stdout",
     "output_type": "stream",
     "text": [
      "Python list addition time: 0.047 seconds\n",
      "NumPy array addition time: 0.001 seconds\n"
     ]
    }
   ],
   "source": [
    "import numpy as np\n",
    "import time\n",
    "\n",
    "# Using Python lists\n",
    "list1 = list(range(1000000))\n",
    "list2 = list(range(1000000))\n",
    "\n",
    "start_time = time.time()\n",
    "result_list = [x + y for x, y in zip(list1, list2)]\n",
    "end_time = time.time()\n",
    "print(f\"Python list addition time: {end_time - start_time:.3f} seconds\")\n",
    "\n",
    "# Using NumPy arrays\n",
    "arr1 = np.arange(1000000)\n",
    "arr2 = np.arange(1000000)\n",
    "\n",
    "start_time = time.time()\n",
    "result_array = arr1 + arr2\n",
    "end_time = time.time()\n",
    "print(f\"NumPy array addition time: {end_time - start_time:.3f} seconds\")"
   ]
  },
  {
   "cell_type": "markdown",
   "metadata": {},
   "source": [
    "As you can see, NumPy array addition is significantly faster than Python list addition.\n"
   ]
  },
  {
   "cell_type": "markdown",
   "metadata": {},
   "source": [
    "### <a id='toc1_2_'></a>[Ease of Use and Readability](#toc0_)\n"
   ]
  },
  {
   "cell_type": "markdown",
   "metadata": {},
   "source": [
    "Another advantage of using NumPy is its ease of use and readability. NumPy provides a clean and intuitive syntax for performing complex numerical computations, making your code more concise and easier to understand.\n"
   ]
  },
  {
   "cell_type": "markdown",
   "metadata": {},
   "source": [
    "NumPy's vectorized operations allow you to express mathematical computations in a more natural and readable way, without the need for explicit loops. This not only improves code readability but also reduces the chances of introducing bugs.\n"
   ]
  },
  {
   "cell_type": "markdown",
   "metadata": {},
   "source": [
    "For example, consider the following code that computes the element-wise square of an array:\n"
   ]
  },
  {
   "cell_type": "code",
   "execution_count": 3,
   "metadata": {},
   "outputs": [
    {
     "name": "stdout",
     "output_type": "stream",
     "text": [
      "[ 1  4  9 16 25]\n"
     ]
    }
   ],
   "source": [
    "import numpy as np\n",
    "\n",
    "arr = np.array([1, 2, 3, 4, 5])\n",
    "squared_arr = np.square(arr)\n",
    "print(squared_arr)  # Output: [1 4 9 16 25]"
   ]
  },
  {
   "cell_type": "markdown",
   "metadata": {},
   "source": [
    "With NumPy, you can achieve the same result in a single line of code using the `np.square()` function, making your code more concise and expressive.\n"
   ]
  },
  {
   "cell_type": "markdown",
   "metadata": {},
   "source": [
    "### <a id='toc1_3_'></a>[Integration with Other Libraries](#toc0_)\n"
   ]
  },
  {
   "cell_type": "markdown",
   "metadata": {},
   "source": [
    "NumPy seamlessly integrates with other popular libraries in the scientific Python ecosystem, serving as the foundation for many of them. This integration allows you to leverage the capabilities of multiple libraries to build powerful and efficient data processing pipelines.\n"
   ]
  },
  {
   "cell_type": "markdown",
   "metadata": {},
   "source": [
    "Some notable libraries that build upon NumPy include:\n",
    "\n",
    "- **SciPy:** SciPy extends NumPy's capabilities by providing additional functions for optimization, linear algebra, integration, interpolation, signal and image processing, and more. It enables you to perform advanced scientific computations efficiently.\n",
    "\n",
    "- **Pandas:** Pandas is a powerful data manipulation library that uses NumPy arrays as its underlying data structure. It provides high-level data structures like DataFrames and Series, along with functions for data cleaning, transformation, and analysis. NumPy's efficient array operations are crucial for Pandas' performance.\n",
    "\n",
    "- **Matplotlib:** Matplotlib is a popular plotting library that allows you to create a wide range of static, animated, and interactive visualizations. It relies on NumPy arrays for numerical computations and data representation, enabling you to visualize your NumPy data easily.\n",
    "\n",
    "- **Scikit-learn:** Scikit-learn is a machine learning library that provides a wide range of algorithms for classification, regression, clustering, and more. It uses NumPy arrays as the primary data structure for representing features and targets, allowing seamless integration with NumPy-based data preprocessing pipelines.\n"
   ]
  },
  {
   "cell_type": "markdown",
   "metadata": {},
   "source": [
    "The integration of NumPy with these libraries creates a powerful ecosystem for scientific computing, data analysis, and machine learning in Python. By leveraging NumPy's efficient array operations and combining them with the specialized functionalities provided by other libraries, you can tackle complex computational problems with ease."
   ]
  },
  {
   "cell_type": "markdown",
   "metadata": {},
   "source": [
    "## <a id='toc2_'></a>[Key Features and Capabilities of NumPy](#toc0_)\n"
   ]
  },
  {
   "cell_type": "markdown",
   "metadata": {},
   "source": [
    "NumPy offers a wide range of features and capabilities that make it a powerful tool for numerical computing. Let's explore some of its key features in detail.\n"
   ]
  },
  {
   "cell_type": "markdown",
   "metadata": {},
   "source": [
    "### <a id='toc2_1_'></a>[Multi-dimensional Arrays](#toc0_)\n"
   ]
  },
  {
   "cell_type": "markdown",
   "metadata": {},
   "source": [
    "The foundation of NumPy is the `ndarray` object, which represents a multi-dimensional array. These arrays can have one or more dimensions, allowing you to store and manipulate data efficiently.\n"
   ]
  },
  {
   "cell_type": "markdown",
   "metadata": {},
   "source": [
    "Creating a NumPy array is simple:\n"
   ]
  },
  {
   "cell_type": "code",
   "execution_count": 4,
   "metadata": {},
   "outputs": [],
   "source": [
    "import numpy as np\n",
    "\n",
    "# Creating a 1-dimensional array\n",
    "arr_1d = np.array([1, 2, 3, 4, 5])\n",
    "\n",
    "# Creating a 2-dimensional array\n",
    "arr_2d = np.array([[1, 2, 3], [4, 5, 6]])\n",
    "\n",
    "# Creating a 3-dimensional array\n",
    "arr_3d = np.array([[[1, 2], [3, 4]], [[5, 6], [7, 8]]])"
   ]
  },
  {
   "cell_type": "markdown",
   "metadata": {},
   "source": [
    "NumPy arrays have attributes like `shape`, `size`, and `dtype` that provide information about the array's dimensions, total number of elements, and data type, respectively.\n"
   ]
  },
  {
   "cell_type": "markdown",
   "metadata": {},
   "source": [
    "### <a id='toc2_2_'></a>[Mathematical Functions](#toc0_)\n"
   ]
  },
  {
   "cell_type": "markdown",
   "metadata": {},
   "source": [
    "NumPy provides a vast collection of mathematical functions that operate on arrays element-wise. These functions allow you to perform various mathematical operations efficiently without the need for explicit loops.\n"
   ]
  },
  {
   "cell_type": "markdown",
   "metadata": {},
   "source": [
    "Some commonly used mathematical functions in NumPy include:\n",
    "\n",
    "- Arithmetic operations: `np.add()`, `np.subtract()`, `np.multiply()`, `np.divide()`\n",
    "- Trigonometric functions: `np.sin()`, `np.cos()`, `np.tan()`\n",
    "- Exponential and logarithmic functions: `np.exp()`, `np.log()`, `np.log10()`\n",
    "- Statistical functions: `np.mean()`, `np.median()`, `np.std()`, `np.var()`\n"
   ]
  },
  {
   "cell_type": "markdown",
   "metadata": {},
   "source": [
    "Here's an example that demonstrates the use of mathematical functions:\n"
   ]
  },
  {
   "cell_type": "code",
   "execution_count": 5,
   "metadata": {},
   "outputs": [
    {
     "data": {
      "text/plain": [
       "array([1.        , 1.41421356, 1.73205081, 2.        , 2.23606798])"
      ]
     },
     "execution_count": 5,
     "metadata": {},
     "output_type": "execute_result"
    }
   ],
   "source": [
    "import numpy as np\n",
    "\n",
    "arr = np.array([1, 2, 3, 4, 5])\n",
    "sqrt_arr = np.sqrt(arr)\n",
    "sqrt_arr\n"
   ]
  },
  {
   "cell_type": "markdown",
   "metadata": {},
   "source": [
    "### <a id='toc2_3_'></a>[Broadcasting](#toc0_)\n"
   ]
  },
  {
   "cell_type": "markdown",
   "metadata": {},
   "source": [
    "Broadcasting is a powerful feature in NumPy that allows arrays with different shapes to be used in arithmetic operations. It enables you to perform operations between arrays of different sizes without the need for explicit reshaping.\n"
   ]
  },
  {
   "cell_type": "markdown",
   "metadata": {},
   "source": [
    "NumPy follows a set of broadcasting rules to determine how arrays with different shapes should be treated during arithmetic operations. These rules allow you to perform operations like scalar-array, array-array, and array-matrix operations efficiently.\n"
   ]
  },
  {
   "cell_type": "markdown",
   "metadata": {},
   "source": [
    "<img src=\"./images/broadcasting.png\" width=\"800\">"
   ]
  },
  {
   "cell_type": "markdown",
   "metadata": {},
   "source": [
    "Here's an example that demonstrates broadcasting:\n"
   ]
  },
  {
   "cell_type": "code",
   "execution_count": 6,
   "metadata": {},
   "outputs": [
    {
     "data": {
      "text/plain": [
       "array([[11, 12, 13],\n",
       "       [14, 15, 16]])"
      ]
     },
     "execution_count": 6,
     "metadata": {},
     "output_type": "execute_result"
    }
   ],
   "source": [
    "import numpy as np\n",
    "\n",
    "arr = np.array([[1, 2, 3], [4, 5, 6]])\n",
    "scalar = 10\n",
    "result = arr + scalar\n",
    "result"
   ]
  },
  {
   "cell_type": "markdown",
   "metadata": {},
   "source": [
    "In this example, the scalar value `10` is broadcasted to match the shape of the array `arr`, and the addition operation is performed element-wise.\n"
   ]
  },
  {
   "cell_type": "markdown",
   "metadata": {},
   "source": [
    "### <a id='toc2_4_'></a>[Indexing and Slicing](#toc0_)\n"
   ]
  },
  {
   "cell_type": "markdown",
   "metadata": {},
   "source": [
    "NumPy provides powerful indexing and slicing capabilities that allow you to access and manipulate specific elements or subsets of an array.\n",
    "\n",
    "- Indexing: You can access individual elements of an array using square brackets and the corresponding indices.\n",
    "- Slicing: You can extract sub-arrays by specifying a range of indices using the colon (`:`) notation.\n"
   ]
  },
  {
   "cell_type": "markdown",
   "metadata": {},
   "source": [
    "Here's an example that demonstrates indexing and slicing:\n"
   ]
  },
  {
   "cell_type": "code",
   "execution_count": 7,
   "metadata": {},
   "outputs": [
    {
     "data": {
      "text/plain": [
       "2"
      ]
     },
     "execution_count": 7,
     "metadata": {},
     "output_type": "execute_result"
    }
   ],
   "source": [
    "import numpy as np\n",
    "\n",
    "arr = np.array([[1, 2, 3], [4, 5, 6], [7, 8, 9]])\n",
    "arr[0, 1]"
   ]
  },
  {
   "cell_type": "code",
   "execution_count": 8,
   "metadata": {},
   "outputs": [
    {
     "data": {
      "text/plain": [
       "array([[4, 5],\n",
       "       [7, 8]])"
      ]
     },
     "execution_count": 8,
     "metadata": {},
     "output_type": "execute_result"
    }
   ],
   "source": [
    "arr[1:, :2]"
   ]
  },
  {
   "cell_type": "markdown",
   "metadata": {},
   "source": [
    "In the first example, we access the element at row index 0 and column index 1. In the second example, we extract a sub-array consisting of rows from index 1 onwards and columns up to index 2 (exclusive).\n"
   ]
  },
  {
   "cell_type": "markdown",
   "metadata": {},
   "source": [
    "### <a id='toc2_5_'></a>[Random Number Generation](#toc0_)\n"
   ]
  },
  {
   "cell_type": "markdown",
   "metadata": {},
   "source": [
    "NumPy provides a random number generation module called `numpy.random` that allows you to generate various types of random numbers and arrays. This module is useful for simulations, statistical sampling, and machine learning tasks.\n"
   ]
  },
  {
   "cell_type": "markdown",
   "metadata": {},
   "source": [
    "Some commonly used functions for random number generation include:\n",
    "\n",
    "- `np.random.rand()`: Generate random floats between 0 and 1.\n",
    "- `np.random.randint()`: Generate random integers within a specified range.\n",
    "- `np.random.normal()`: Generate random numbers from a normal (Gaussian) distribution.\n",
    "- `np.random.shuffle()`: Randomly shuffle the elements of an array in place.\n"
   ]
  },
  {
   "cell_type": "markdown",
   "metadata": {},
   "source": [
    "Here's an example that demonstrates random number generation:\n"
   ]
  },
  {
   "cell_type": "code",
   "execution_count": 9,
   "metadata": {},
   "outputs": [
    {
     "data": {
      "text/plain": [
       "0.7531757324577198"
      ]
     },
     "execution_count": 9,
     "metadata": {},
     "output_type": "execute_result"
    }
   ],
   "source": [
    "import numpy as np\n",
    "\n",
    "# Generate a random float between 0 and 1\n",
    "random_float = np.random.rand()\n",
    "random_float"
   ]
  },
  {
   "cell_type": "code",
   "execution_count": 10,
   "metadata": {},
   "outputs": [
    {
     "data": {
      "text/plain": [
       "1"
      ]
     },
     "execution_count": 10,
     "metadata": {},
     "output_type": "execute_result"
    }
   ],
   "source": [
    "# Generate a random integer between 1 and 10 (inclusive)\n",
    "random_int = np.random.randint(1, 11)\n",
    "random_int\n"
   ]
  },
  {
   "cell_type": "code",
   "execution_count": 11,
   "metadata": {},
   "outputs": [
    {
     "data": {
      "text/plain": [
       "array([[0.55696043, 0.66659632, 0.50743261],\n",
       "       [0.11649023, 0.70903422, 0.51930541]])"
      ]
     },
     "execution_count": 11,
     "metadata": {},
     "output_type": "execute_result"
    }
   ],
   "source": [
    "# Generate a 2x3 array of random floats between 0 and 1\n",
    "random_array = np.random.rand(2, 3)\n",
    "random_array"
   ]
  },
  {
   "cell_type": "markdown",
   "metadata": {},
   "source": [
    "### <a id='toc2_6_'></a>[Saving and Loading Data](#toc0_)\n"
   ]
  },
  {
   "cell_type": "markdown",
   "metadata": {},
   "source": [
    "NumPy provides functions to save and load arrays to and from files, allowing you to store and retrieve data efficiently. This is particularly useful when working with large datasets or when you need to persist data across different sessions.\n"
   ]
  },
  {
   "cell_type": "markdown",
   "metadata": {},
   "source": [
    "Some commonly used functions for saving and loading data include:\n",
    "\n",
    "- `np.save()`: Save a single array to a binary file with a `.npy` extension.\n",
    "- `np.load()`: Load a single array from a `.npy` file.\n",
    "- `np.savez()`: Save multiple arrays to a single file with a `.npz` extension.\n",
    "- `np.load()`: Load multiple arrays from a `.npz` file.\n"
   ]
  },
  {
   "cell_type": "markdown",
   "metadata": {},
   "source": [
    "Here's an example that demonstrates saving and loading an array:\n"
   ]
  },
  {
   "cell_type": "markdown",
   "metadata": {},
   "source": [
    "```python\n",
    "import numpy as np\n",
    "\n",
    "# Create an array\n",
    "arr = np.array([1, 2, 3, 4, 5])\n",
    "\n",
    "# Save the array to a file\n",
    "np.save('my_array.npy', arr)\n",
    "\n",
    "# Load the array from the file\n",
    "loaded_arr = np.load('my_array.npy')\n",
    "print(loaded_arr)  # Output: [1 2 3 4 5]\n",
    "```\n"
   ]
  },
  {
   "cell_type": "markdown",
   "metadata": {},
   "source": [
    "In this example, we create an array `arr`, save it to a file named `my_array.npy` using `np.save()`, and then load it back from the file using `np.load()`.\n"
   ]
  },
  {
   "cell_type": "markdown",
   "metadata": {},
   "source": [
    "These are just a few of the key features and capabilities of NumPy. NumPy provides many more functions and tools for advanced numerical computing, including linear algebra, Fourier transforms, and more. As you explore NumPy further, you'll discover its full potential and how it can streamline your numerical computing tasks."
   ]
  },
  {
   "cell_type": "markdown",
   "metadata": {},
   "source": [
    "## <a id='toc3_'></a>[NumPy in the Data Science Ecosystem](#toc0_)"
   ]
  },
  {
   "cell_type": "markdown",
   "metadata": {},
   "source": [
    "NumPy is a fundamental library in the Python data science ecosystem. It plays a crucial role in providing the necessary tools and data structures for efficient numerical computing. Let's explore how NumPy relates to other data science libraries and its real-world applications.\n"
   ]
  },
  {
   "cell_type": "markdown",
   "metadata": {},
   "source": [
    "### <a id='toc3_1_'></a>[Relation to Other Data Science Libraries](#toc0_)\n"
   ]
  },
  {
   "cell_type": "markdown",
   "metadata": {},
   "source": [
    "NumPy serves as the foundation for many other popular data science libraries in Python. These libraries build upon NumPy's functionality and provide higher-level abstractions and specialized tools for various data science tasks.\n"
   ]
  },
  {
   "cell_type": "markdown",
   "metadata": {},
   "source": [
    "Some of the key libraries that rely on NumPy include:\n",
    "\n",
    "1. **Pandas**: Pandas is a powerful data manipulation library that provides data structures like DataFrames and Series for handling structured data. It uses NumPy arrays as the underlying data storage and leverages NumPy's efficient numerical computations.\n",
    "\n",
    "2. **Matplotlib**: Matplotlib is a widely used plotting library that allows you to create a variety of visualizations, including line plots, scatter plots, bar plots, and more. It uses NumPy arrays to represent the data being plotted and relies on NumPy's numerical operations for data transformations.\n",
    "\n",
    "3. **SciPy**: SciPy is a scientific computing library that builds upon NumPy and provides additional functionality for optimization, linear algebra, integration, signal and image processing, and more. It extends NumPy's capabilities to handle more advanced numerical computations.\n",
    "\n",
    "4. **Scikit-learn**: Scikit-learn is a popular machine learning library that provides a wide range of algorithms for classification, regression, clustering, dimensionality reduction, and model evaluation. It uses NumPy arrays as the primary data structure for representing features and targets.\n"
   ]
  },
  {
   "cell_type": "markdown",
   "metadata": {},
   "source": [
    "These libraries leverage NumPy's efficient array operations and numerical computing capabilities to provide high-performance data manipulation, visualization, scientific computing, and machine learning functionalities.\n"
   ]
  },
  {
   "cell_type": "markdown",
   "metadata": {},
   "source": [
    "By integrating with these libraries, NumPy enables a seamless data science workflow, allowing you to efficiently process, analyze, and model data using a unified ecosystem of tools.\n"
   ]
  },
  {
   "cell_type": "markdown",
   "metadata": {},
   "source": [
    "### <a id='toc3_2_'></a>[Real-world Applications](#toc0_)\n"
   ]
  },
  {
   "cell_type": "markdown",
   "metadata": {},
   "source": [
    "NumPy finds applications in various domains and industries where numerical computing and data analysis are essential. Some real-world applications of NumPy include:\n",
    "\n",
    "1. **Scientific Computing**: NumPy is extensively used in scientific computing applications, such as physics simulations, numerical modeling, and computational biology. Its efficient array operations and mathematical functions make it suitable for handling large datasets and performing complex calculations.\n",
    "\n",
    "2. **Data Analysis**: NumPy is a fundamental tool for data analysis tasks. It provides the necessary data structures and functions for cleaning, transforming, and analyzing data. NumPy's ability to handle large arrays efficiently makes it valuable for processing and manipulating datasets in fields like finance, marketing, and social sciences.\n",
    "\n",
    "3. **Machine Learning**: NumPy is a crucial component in machine learning pipelines. It is used for data preprocessing, feature extraction, and model training. NumPy's array operations enable efficient computation of gradients and optimization algorithms, which are essential for training machine learning models.\n",
    "\n",
    "4. **Image and Signal Processing**: NumPy's multi-dimensional arrays and mathematical functions make it suitable for image and signal processing tasks. It provides capabilities for image manipulation, filtering, and transformations. NumPy is commonly used in applications like computer vision, audio processing, and medical imaging.\n",
    "\n",
    "5. **Finance**: NumPy is used in financial applications for tasks like risk analysis, portfolio optimization, and quantitative trading. Its efficient numerical computations and integration with libraries like Pandas make it valuable for handling financial data and performing complex financial calculations.\n",
    "\n",
    "6. **Geospatial Analysis**: NumPy is used in geospatial analysis and geographic information systems (GIS) for tasks like spatial data processing, raster analysis, and terrain modeling. Its ability to handle large arrays and perform mathematical operations on geospatial data makes it suitable for this domain.\n"
   ]
  },
  {
   "cell_type": "markdown",
   "metadata": {},
   "source": [
    "These are just a few examples of the real-world applications of NumPy. Its versatility and efficiency make it a valuable tool across various industries and research fields where numerical computing and data analysis are essential.\n"
   ]
  },
  {
   "cell_type": "markdown",
   "metadata": {},
   "source": [
    "As you can see, NumPy is not only a powerful library on its own but also serves as the foundation for the broader data science ecosystem in Python. Its seamless integration with other libraries and its wide range of real-world applications make it an indispensable tool for data scientists, researchers, and developers working with numerical data."
   ]
  },
  {
   "cell_type": "markdown",
   "metadata": {},
   "source": [
    "## <a id='toc4_'></a>[Getting Started with NumPy](#toc0_)"
   ]
  },
  {
   "cell_type": "markdown",
   "metadata": {},
   "source": [
    "Now that you have a good understanding of what NumPy is and its key features, let's dive into how to get started with using NumPy in your Python environment.\n"
   ]
  },
  {
   "cell_type": "markdown",
   "metadata": {},
   "source": [
    "### <a id='toc4_1_'></a>[Installation](#toc0_)\n"
   ]
  },
  {
   "cell_type": "markdown",
   "metadata": {},
   "source": [
    "To use NumPy, you first need to install it in your Python environment. There are several ways to install NumPy, depending on your operating system and preferred installation method.\n",
    "\n",
    "1. **Using pip**: pip is the package installer for Python. You can install NumPy using pip by running the following command in your terminal or command prompt:\n",
    "\n",
    "   ```\n",
    "   pip install numpy\n",
    "   ```\n",
    "\n",
    "2. **Using conda**: If you are using the Anaconda distribution of Python, you can install NumPy using the conda package manager. Open the Anaconda Prompt and run the following command:\n",
    "\n",
    "   ```\n",
    "   conda install numpy\n",
    "   ```\n",
    "\n",
    "3. **From source**: If you prefer to install NumPy from source, you can download the source code from the official NumPy website (https://numpy.org) and follow the installation instructions provided in the documentation.\n"
   ]
  },
  {
   "cell_type": "markdown",
   "metadata": {},
   "source": [
    "Once the installation is complete, you can verify that NumPy is installed correctly by running the following command in your Python interpreter or a Jupyter Notebook:"
   ]
  },
  {
   "cell_type": "code",
   "execution_count": 12,
   "metadata": {},
   "outputs": [
    {
     "data": {
      "text/plain": [
       "'1.26.0'"
      ]
     },
     "execution_count": 12,
     "metadata": {},
     "output_type": "execute_result"
    }
   ],
   "source": [
    "import numpy as np\n",
    "np.__version__"
   ]
  },
  {
   "cell_type": "markdown",
   "metadata": {},
   "source": [
    "If NumPy is installed correctly, it will display the version number of NumPy.\n"
   ]
  },
  {
   "cell_type": "markdown",
   "metadata": {},
   "source": [
    "### <a id='toc4_2_'></a>[Importing NumPy](#toc0_)\n"
   ]
  },
  {
   "cell_type": "markdown",
   "metadata": {},
   "source": [
    "To use NumPy in your Python scripts or notebooks, you need to import it. The convention is to import NumPy with the alias `np`. This allows you to refer to NumPy functions and objects using the `np.` prefix.\n"
   ]
  },
  {
   "cell_type": "markdown",
   "metadata": {},
   "source": [
    "Here's how you can import NumPy in your Python code:"
   ]
  },
  {
   "cell_type": "code",
   "execution_count": 13,
   "metadata": {},
   "outputs": [],
   "source": [
    "import numpy as np"
   ]
  },
  {
   "cell_type": "markdown",
   "metadata": {},
   "source": [
    "By importing NumPy with the alias `np`, you can access its functions and objects conveniently. For example, you can create a NumPy array using `np.array()`, compute the mean of an array using `np.mean()`, and so on.\n"
   ]
  },
  {
   "cell_type": "markdown",
   "metadata": {},
   "source": [
    "### <a id='toc4_3_'></a>[Basic Usage Examples](#toc0_)\n"
   ]
  },
  {
   "cell_type": "markdown",
   "metadata": {},
   "source": [
    "Now that you have NumPy installed and imported, let's explore some basic usage examples to get you started.\n"
   ]
  },
  {
   "cell_type": "markdown",
   "metadata": {},
   "source": [
    "1. **Creating NumPy Arrays**:\n",
    "   You can create NumPy arrays using various methods, such as `np.array()`, `np.zeros()`, `np.ones()`, and `np.arange()`.\n"
   ]
  },
  {
   "cell_type": "code",
   "execution_count": 14,
   "metadata": {},
   "outputs": [],
   "source": [
    "# Creating a 1-dimensional array\n",
    "arr1 = np.array([1, 2, 3, 4, 5])\n",
    "\n",
    "# Creating a 2-dimensional array\n",
    "arr2 = np.array([[1, 2, 3], [4, 5, 6]])"
   ]
  },
  {
   "cell_type": "code",
   "execution_count": 15,
   "metadata": {},
   "outputs": [
    {
     "data": {
      "text/plain": [
       "array([[0., 0., 0., 0.],\n",
       "       [0., 0., 0., 0.],\n",
       "       [0., 0., 0., 0.]])"
      ]
     },
     "execution_count": 15,
     "metadata": {},
     "output_type": "execute_result"
    }
   ],
   "source": [
    "# Creating an array of zeros\n",
    "zeros_arr = np.zeros((3, 4))\n",
    "zeros_arr"
   ]
  },
  {
   "cell_type": "code",
   "execution_count": 16,
   "metadata": {},
   "outputs": [
    {
     "data": {
      "text/plain": [
       "array([[1., 1.],\n",
       "       [1., 1.]])"
      ]
     },
     "execution_count": 16,
     "metadata": {},
     "output_type": "execute_result"
    }
   ],
   "source": [
    "# Creating an array of ones\n",
    "ones_arr = np.ones((2, 2))\n",
    "ones_arr"
   ]
  },
  {
   "cell_type": "code",
   "execution_count": 17,
   "metadata": {},
   "outputs": [
    {
     "data": {
      "text/plain": [
       "array([0, 2, 4, 6, 8])"
      ]
     },
     "execution_count": 17,
     "metadata": {},
     "output_type": "execute_result"
    }
   ],
   "source": [
    "# Creating an array with a range of values\n",
    "range_arr = np.arange(0, 10, 2)\n",
    "range_arr"
   ]
  },
  {
   "cell_type": "markdown",
   "metadata": {},
   "source": [
    "2. **Array Attributes**:\n",
    "   NumPy arrays have various attributes that provide information about the array, such as its shape, size, and data type.\n"
   ]
  },
  {
   "cell_type": "code",
   "execution_count": 18,
   "metadata": {},
   "outputs": [],
   "source": [
    "arr = np.array([[1, 2, 3], [4, 5, 6]])"
   ]
  },
  {
   "cell_type": "code",
   "execution_count": 19,
   "metadata": {},
   "outputs": [
    {
     "data": {
      "text/plain": [
       "(2, 3)"
      ]
     },
     "execution_count": 19,
     "metadata": {},
     "output_type": "execute_result"
    }
   ],
   "source": [
    "arr.shape"
   ]
  },
  {
   "cell_type": "code",
   "execution_count": 20,
   "metadata": {},
   "outputs": [
    {
     "data": {
      "text/plain": [
       "6"
      ]
     },
     "execution_count": 20,
     "metadata": {},
     "output_type": "execute_result"
    }
   ],
   "source": [
    "arr.size"
   ]
  },
  {
   "cell_type": "code",
   "execution_count": 21,
   "metadata": {},
   "outputs": [
    {
     "data": {
      "text/plain": [
       "dtype('int64')"
      ]
     },
     "execution_count": 21,
     "metadata": {},
     "output_type": "execute_result"
    }
   ],
   "source": [
    "arr.dtype"
   ]
  },
  {
   "cell_type": "markdown",
   "metadata": {},
   "source": [
    "3. **Array Operations**:\n",
    "   NumPy provides a wide range of mathematical functions and operations that can be applied to arrays element-wise.\n"
   ]
  },
  {
   "cell_type": "code",
   "execution_count": 22,
   "metadata": {},
   "outputs": [],
   "source": [
    "arr1 = np.array([1, 2, 3])\n",
    "arr2 = np.array([4, 5, 6])"
   ]
  },
  {
   "cell_type": "code",
   "execution_count": 23,
   "metadata": {},
   "outputs": [
    {
     "data": {
      "text/plain": [
       "array([5, 7, 9])"
      ]
     },
     "execution_count": 23,
     "metadata": {},
     "output_type": "execute_result"
    }
   ],
   "source": [
    "# Element-wise addition\n",
    "arr1 + arr2"
   ]
  },
  {
   "cell_type": "code",
   "execution_count": 24,
   "metadata": {},
   "outputs": [
    {
     "data": {
      "text/plain": [
       "array([ 4, 10, 18])"
      ]
     },
     "execution_count": 24,
     "metadata": {},
     "output_type": "execute_result"
    }
   ],
   "source": [
    "# Element-wise multiplication\n",
    "arr1 * arr2"
   ]
  },
  {
   "cell_type": "code",
   "execution_count": 25,
   "metadata": {},
   "outputs": [
    {
     "data": {
      "text/plain": [
       "2.0"
      ]
     },
     "execution_count": 25,
     "metadata": {},
     "output_type": "execute_result"
    }
   ],
   "source": [
    "# Compute the mean of an array\n",
    "np.mean(arr1)"
   ]
  },
  {
   "cell_type": "code",
   "execution_count": 26,
   "metadata": {},
   "outputs": [
    {
     "data": {
      "text/plain": [
       "0.816496580927726"
      ]
     },
     "execution_count": 26,
     "metadata": {},
     "output_type": "execute_result"
    }
   ],
   "source": [
    "# Compute the standard deviation of an array\n",
    "np.std(arr2)"
   ]
  },
  {
   "cell_type": "markdown",
   "metadata": {},
   "source": [
    "These are just a few basic examples to get you started with NumPy. NumPy provides a vast array of functions and operations for numerical computing, and you can explore the NumPy documentation to learn more about its capabilities.\n"
   ]
  },
  {
   "cell_type": "markdown",
   "metadata": {},
   "source": [
    "As you become more familiar with NumPy, you'll discover its power and flexibility in handling numerical data efficiently. NumPy's array operations, mathematical functions, and integration with other libraries make it an essential tool for data manipulation, analysis, and scientific computing in Python."
   ]
  },
  {
   "cell_type": "markdown",
   "metadata": {},
   "source": [
    "## <a id='toc5_'></a>[Summary and Conclusion](#toc0_)"
   ]
  },
  {
   "cell_type": "markdown",
   "metadata": {},
   "source": [
    "In this lecture, we introduced NumPy, a powerful library for numerical computing in Python. Here are the key points we covered:\n",
    "\n",
    "- **What is NumPy?**\n",
    "  - NumPy is a fundamental package for scientific computing in Python.\n",
    "  - It provides support for large, multi-dimensional arrays and matrices, along with a vast collection of mathematical functions to operate on these arrays efficiently.\n",
    "\n",
    "- **Advantages of using NumPy:**\n",
    "  - Efficiency and performance through contiguous memory allocation and vectorized operations.\n",
    "  - Ease of use and readability with a clean and intuitive syntax.\n",
    "  - Seamless integration with other popular libraries in the scientific Python ecosystem.\n",
    "\n",
    "- **Key features and capabilities of NumPy:**\n",
    "  - Multi-dimensional arrays (`ndarray`) for efficient storage and manipulation of large datasets.\n",
    "  - Wide range of mathematical functions for array operations.\n",
    "  - Broadcasting for performing arithmetic operations between arrays of different shapes.\n",
    "  - Indexing and slicing for accessing and manipulating specific elements or subsets of an array.\n",
    "  - Random number generation for simulations and sampling.\n",
    "  - Saving and loading data to and from files.\n",
    "\n",
    "- **NumPy in the data science ecosystem:**\n",
    "  - NumPy serves as the foundation for many other data science libraries, such as Pandas, Matplotlib, SciPy, and Scikit-learn.\n",
    "  - It provides the necessary data structures and numerical computing capabilities for these libraries.\n",
    "\n",
    "- **Getting started with NumPy:**\n",
    "  - Installation using pip, conda, or from source.\n",
    "  - Importing NumPy in Python scripts using the `import numpy as np` convention.\n",
    "  - Basic usage examples demonstrating array creation, attributes, and operations.\n"
   ]
  },
  {
   "cell_type": "markdown",
   "metadata": {},
   "source": [
    "In conclusion, NumPy is an essential tool for anyone working with numerical data in Python. Its efficient array operations, extensive mathematical functions, and seamless integration with other libraries make it a cornerstone of the scientific Python ecosystem.\n"
   ]
  },
  {
   "cell_type": "markdown",
   "metadata": {},
   "source": [
    "As you progress through the course and delve deeper into NumPy's capabilities, you'll discover its full potential and learn how to leverage its power for your specific needs in data manipulation, analysis, and scientific computing."
   ]
  }
 ],
 "metadata": {
  "kernelspec": {
   "display_name": "py310",
   "language": "python",
   "name": "python3"
  },
  "language_info": {
   "codemirror_mode": {
    "name": "ipython",
    "version": 3
   },
   "file_extension": ".py",
   "mimetype": "text/x-python",
   "name": "python",
   "nbconvert_exporter": "python",
   "pygments_lexer": "ipython3",
   "version": "3.10.12"
  }
 },
 "nbformat": 4,
 "nbformat_minor": 2
}
