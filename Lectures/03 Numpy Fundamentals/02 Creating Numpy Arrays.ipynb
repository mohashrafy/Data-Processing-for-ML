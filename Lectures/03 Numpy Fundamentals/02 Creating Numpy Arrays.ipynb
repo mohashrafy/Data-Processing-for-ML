{
 "cells": [
  {
   "cell_type": "markdown",
   "metadata": {},
   "source": [
    "<img src=\"./images/banner.png\" width=\"800\">"
   ]
  },
  {
   "cell_type": "markdown",
   "metadata": {},
   "source": [
    "# Creating NumPy Arrays"
   ]
  },
  {
   "cell_type": "markdown",
   "metadata": {},
   "source": [
    "In the previous lecture, we introduced NumPy and explored its fundamental concepts. Now, let's dive deeper into the core data structure of NumPy: the **NumPy array**.\n"
   ]
  },
  {
   "cell_type": "markdown",
   "metadata": {},
   "source": [
    "NumPy arrays are the primary data structure in NumPy. They are homogeneous, multidimensional containers for storing elements of the same data type. In other words, a NumPy array is a grid of values, all of the same type, indexed by a tuple of non-negative integers.\n"
   ]
  },
  {
   "cell_type": "markdown",
   "metadata": {},
   "source": [
    "Here are some key characteristics of NumPy arrays:\n",
    "\n",
    "- **Homogeneous**: All elements in a NumPy array must be of the same data type.\n",
    "- **Multidimensional**: NumPy arrays can have one or more dimensions, allowing you to represent vectors, matrices, and higher-dimensional tensors.\n",
    "- **Fixed Size**: The size of a NumPy array is fixed at creation time and cannot be changed afterward.\n"
   ]
  },
  {
   "cell_type": "markdown",
   "metadata": {},
   "source": [
    "NumPy arrays are represented by the `ndarray` object in NumPy. The dimensions of an array are called axes, and the number of axes is referred to as the rank of the array.\n"
   ]
  },
  {
   "cell_type": "markdown",
   "metadata": {},
   "source": [
    "For example, a 1-dimensional array (rank 1) is a vector, a 2-dimensional array (rank 2) is a matrix, and arrays with rank 3 or higher are called higher-dimensional arrays or tensors.\n"
   ]
  },
  {
   "cell_type": "markdown",
   "metadata": {},
   "source": [
    "NumPy arrays offer several advantages over traditional Python lists:\n",
    "\n",
    "1. **Efficiency**: NumPy arrays are stored in contiguous memory locations, allowing for faster access and manipulation compared to Python lists. This is especially beneficial when working with large datasets.\n",
    "\n",
    "2. **Vectorized Operations**: NumPy provides a wide range of mathematical functions that operate element-wise on arrays, eliminating the need for explicit loops. This vectorization leads to more concise and efficient code.\n",
    "\n",
    "3. **Broadcasting**: NumPy arrays support broadcasting, which allows arrays with different shapes to be used in arithmetic operations without the need for explicit reshaping. Broadcasting enables you to write more expressive and readable code.\n",
    "\n",
    "4. **Memory Efficiency**: NumPy arrays are more memory-efficient than Python lists, especially for large datasets. NumPy uses fixed-size data types, which reduces memory overhead and allows for optimized memory allocation.\n",
    "\n",
    "5. **Interoperability**: NumPy arrays seamlessly integrate with other scientific computing libraries in Python, such as SciPy, Pandas, and Matplotlib. This interoperability enables you to leverage the full power of the scientific Python ecosystem.\n"
   ]
  },
  {
   "cell_type": "markdown",
   "metadata": {},
   "source": [
    "To create a NumPy array, you can use various functions provided by NumPy, such as `np.array()`, `np.zeros()`, `np.ones()`, and `np.arange()`. These functions allow you to create arrays with specific values, shapes, and data types.\n"
   ]
  },
  {
   "cell_type": "markdown",
   "metadata": {},
   "source": [
    "For example, to create a 1-dimensional array from a Python list, you can use the `np.array()` function:\n"
   ]
  },
  {
   "cell_type": "code",
   "execution_count": 1,
   "metadata": {},
   "outputs": [],
   "source": [
    "import numpy as np\n",
    "\n",
    "arr = np.array([1, 2, 3, 4, 5])"
   ]
  },
  {
   "cell_type": "markdown",
   "metadata": {},
   "source": [
    "In the following sections, we will explore different ways to create NumPy arrays and dive into more advanced topics related to array creation and manipulation."
   ]
  },
  {
   "cell_type": "markdown",
   "metadata": {},
   "source": [
    "**Table of contents**<a id='toc0_'></a>    \n",
    "- [Creating 1-Dimensional Arrays](#toc1_)    \n",
    "  - [Using `np.array()` Function](#toc1_1_)    \n",
    "  - [Using `np.arange()` Function](#toc1_2_)    \n",
    "  - [Using `np.linspace()` Function](#toc1_3_)    \n",
    "- [Creating 2-Dimensional Arrays](#toc2_)    \n",
    "  - [Using `np.array()` Function with Nested Lists](#toc2_1_)    \n",
    "  - [Using `np.zeros()` Function](#toc2_2_)    \n",
    "  - [Using `np.ones()` Function](#toc2_3_)    \n",
    "  - [Using `np.eye()` Function](#toc2_4_)    \n",
    "  - [Using `np.diag()` Function](#toc2_5_)    \n",
    "- [Creating Higher-Dimensional Arrays](#toc3_)    \n",
    "  - [Creating 3-Dimensional Arrays](#toc3_1_)    \n",
    "  - [Creating Arrays with More Than 3 Dimensions](#toc3_2_)    \n",
    "- [Creating Arrays with Specific Data Types](#toc4_)    \n",
    "  - [Specifying Data Types Using `dtype` Parameter](#toc4_1_)    \n",
    "  - [Common NumPy Data Types](#toc4_2_)    \n",
    "- [Random Number Generation](#toc5_)    \n",
    "  - [Using `np.random.rand()` Function](#toc5_1_)    \n",
    "  - [Using `np.random.randn()` Function](#toc5_2_)    \n",
    "  - [Using `np.random.randint()` Function](#toc5_3_)    \n",
    "- [Conclusion](#toc6_)    \n",
    "  - [Recap of Key Points](#toc6_1_)    \n",
    "  - [Importance of Array Creation in NumPy](#toc6_2_)    \n",
    "  - [Further Resources](#toc6_3_)    \n",
    "\n",
    "<!-- vscode-jupyter-toc-config\n",
    "\tnumbering=false\n",
    "\tanchor=true\n",
    "\tflat=false\n",
    "\tminLevel=2\n",
    "\tmaxLevel=6\n",
    "\t/vscode-jupyter-toc-config -->\n",
    "<!-- THIS CELL WILL BE REPLACED ON TOC UPDATE. DO NOT WRITE YOUR TEXT IN THIS CELL -->"
   ]
  },
  {
   "cell_type": "markdown",
   "metadata": {},
   "source": [
    "## <a id='toc1_'></a>[Creating 1-Dimensional Arrays](#toc0_)"
   ]
  },
  {
   "cell_type": "markdown",
   "metadata": {},
   "source": [
    "One-dimensional arrays, also known as vectors, are the simplest form of NumPy arrays. They are used to represent a sequence of values along a single axis. In this section, we will explore different ways to create 1-dimensional arrays using NumPy functions.\n"
   ]
  },
  {
   "cell_type": "markdown",
   "metadata": {},
   "source": [
    "### <a id='toc1_1_'></a>[Using `np.array()` Function](#toc0_)\n"
   ]
  },
  {
   "cell_type": "markdown",
   "metadata": {},
   "source": [
    "The `np.array()` function is the most basic way to create a NumPy array. It takes a Python list, tuple, or any array-like object as input and returns a new NumPy array.\n"
   ]
  },
  {
   "cell_type": "markdown",
   "metadata": {},
   "source": [
    "Here's an example of creating a 1-dimensional array using `np.array()`:\n"
   ]
  },
  {
   "cell_type": "code",
   "execution_count": 5,
   "metadata": {},
   "outputs": [
    {
     "data": {
      "text/plain": [
       "array([1, 2, 3, 4, 5])"
      ]
     },
     "execution_count": 5,
     "metadata": {},
     "output_type": "execute_result"
    }
   ],
   "source": [
    "import numpy as np\n",
    "\n",
    "arr = np.array([1, 2, 3, 4, 5])\n",
    "arr"
   ]
  },
  {
   "cell_type": "markdown",
   "metadata": {},
   "source": [
    "In this example, we create a 1-dimensional array `arr` by passing a Python list `[1, 2, 3, 4, 5]` to the `np.array()` function. The resulting array will have a shape of `(5,)`, indicating that it is a 1-dimensional array with 5 elements.\n"
   ]
  },
  {
   "cell_type": "markdown",
   "metadata": {},
   "source": [
    "You can also create an array from a tuple or any array-like object using `np.array()`:\n"
   ]
  },
  {
   "cell_type": "code",
   "execution_count": 6,
   "metadata": {},
   "outputs": [
    {
     "data": {
      "text/plain": [
       "array([1, 2, 3, 4, 5])"
      ]
     },
     "execution_count": 6,
     "metadata": {},
     "output_type": "execute_result"
    }
   ],
   "source": [
    "arr_from_tuple = np.array((1, 2, 3, 4, 5))\n",
    "arr_from_tuple"
   ]
  },
  {
   "cell_type": "code",
   "execution_count": 7,
   "metadata": {},
   "outputs": [
    {
     "data": {
      "text/plain": [
       "array([1, 2, 3, 4, 5])"
      ]
     },
     "execution_count": 7,
     "metadata": {},
     "output_type": "execute_result"
    }
   ],
   "source": [
    "arr_from_range = np.array(range(1, 6))\n",
    "arr_from_range"
   ]
  },
  {
   "cell_type": "markdown",
   "metadata": {},
   "source": [
    "### <a id='toc1_2_'></a>[Using `np.arange()` Function](#toc0_)\n"
   ]
  },
  {
   "cell_type": "markdown",
   "metadata": {},
   "source": [
    "The `np.arange()` function is used to create a 1-dimensional array with evenly spaced values within a given interval. It takes the following arguments:\n",
    "\n",
    "- `start`: The starting value of the interval (inclusive). Default is 0.\n",
    "- `stop`: The ending value of the interval (exclusive).\n",
    "- `step`: The step size between each value. Default is 1.\n"
   ]
  },
  {
   "cell_type": "markdown",
   "metadata": {},
   "source": [
    "Here's an example of creating a 1-dimensional array using `np.arange()`:\n"
   ]
  },
  {
   "cell_type": "code",
   "execution_count": 8,
   "metadata": {},
   "outputs": [
    {
     "data": {
      "text/plain": [
       "array([1, 3, 5, 7, 9])"
      ]
     },
     "execution_count": 8,
     "metadata": {},
     "output_type": "execute_result"
    }
   ],
   "source": [
    "arr = np.arange(1, 10, 2)\n",
    "arr"
   ]
  },
  {
   "cell_type": "markdown",
   "metadata": {},
   "source": [
    "In this example, we create an array `arr` using `np.arange()` with a start value of 1, a stop value of 10, and a step size of 2. The resulting array will contain the values `[1, 3, 5, 7, 9]`.\n"
   ]
  },
  {
   "cell_type": "markdown",
   "metadata": {},
   "source": [
    "If the `start` argument is not provided, it defaults to 0:\n"
   ]
  },
  {
   "cell_type": "code",
   "execution_count": 9,
   "metadata": {},
   "outputs": [
    {
     "data": {
      "text/plain": [
       "array([0, 1, 2, 3, 4])"
      ]
     },
     "execution_count": 9,
     "metadata": {},
     "output_type": "execute_result"
    }
   ],
   "source": [
    "arr = np.arange(5)  # Equivalent to np.arange(0, 5, 1)\n",
    "arr"
   ]
  },
  {
   "cell_type": "markdown",
   "metadata": {},
   "source": [
    "### <a id='toc1_3_'></a>[Using `np.linspace()` Function](#toc0_)\n"
   ]
  },
  {
   "cell_type": "markdown",
   "metadata": {},
   "source": [
    "The `np.linspace()` function is used to create a 1-dimensional array with evenly spaced values over a specified interval. It takes the following arguments:\n",
    "\n",
    "- `start`: The starting value of the interval (inclusive).\n",
    "- `stop`: The ending value of the interval (inclusive).\n",
    "- `num`: The number of values to generate. Default is 50.\n",
    "- `endpoint`: Whether to include the `stop` value in the array. Default is True.\n"
   ]
  },
  {
   "cell_type": "markdown",
   "metadata": {},
   "source": [
    "Here's an example of creating a 1-dimensional array using `np.linspace()`:\n"
   ]
  },
  {
   "cell_type": "code",
   "execution_count": 10,
   "metadata": {},
   "outputs": [
    {
     "data": {
      "text/plain": [
       "array([0.  , 0.25, 0.5 , 0.75, 1.  ])"
      ]
     },
     "execution_count": 10,
     "metadata": {},
     "output_type": "execute_result"
    }
   ],
   "source": [
    "arr = np.linspace(0, 1, 5)\n",
    "arr"
   ]
  },
  {
   "cell_type": "markdown",
   "metadata": {},
   "source": [
    "In this example, we create an array `arr` using `np.linspace()` with a start value of 0, a stop value of 1, and a total of 5 evenly spaced values. The resulting array will be `[0.  , 0.25, 0.5 , 0.75, 1.  ]`.\n"
   ]
  },
  {
   "cell_type": "markdown",
   "metadata": {},
   "source": [
    "If the `endpoint` argument is set to False, the `stop` value will not be included in the array:\n"
   ]
  },
  {
   "cell_type": "code",
   "execution_count": 12,
   "metadata": {},
   "outputs": [
    {
     "data": {
      "text/plain": [
       "array([0. , 0.2, 0.4, 0.6, 0.8])"
      ]
     },
     "execution_count": 12,
     "metadata": {},
     "output_type": "execute_result"
    }
   ],
   "source": [
    "arr = np.linspace(0, 1, 5, endpoint=False)\n",
    "arr"
   ]
  },
  {
   "cell_type": "markdown",
   "metadata": {},
   "source": [
    "The resulting array will be `[0.  , 0.2 , 0.4 , 0.6 , 0.8]`.\n"
   ]
  },
  {
   "cell_type": "markdown",
   "metadata": {},
   "source": [
    "These are just a few examples of how you can create 1-dimensional arrays using NumPy functions. In the next section, we will explore creating 2-dimensional arrays, which are commonly used to represent matrices."
   ]
  },
  {
   "cell_type": "markdown",
   "metadata": {},
   "source": [
    "## <a id='toc2_'></a>[Creating 2-Dimensional Arrays](#toc0_)"
   ]
  },
  {
   "cell_type": "markdown",
   "metadata": {},
   "source": [
    "Two-dimensional arrays, also known as matrices, are arrays with two axes: rows and columns. They are commonly used to represent tabular data, images, and mathematical matrices. In this section, we will explore different ways to create 2-dimensional arrays using NumPy functions.\n"
   ]
  },
  {
   "cell_type": "markdown",
   "metadata": {},
   "source": [
    "### <a id='toc2_1_'></a>[Using `np.array()` Function with Nested Lists](#toc0_)\n"
   ]
  },
  {
   "cell_type": "markdown",
   "metadata": {},
   "source": [
    "To create a 2-dimensional array using the `np.array()` function, you can pass a nested Python list as an argument. Each inner list represents a row of the matrix, and the elements within each inner list represent the values in each column.\n"
   ]
  },
  {
   "cell_type": "markdown",
   "metadata": {},
   "source": [
    "Here's an example of creating a 2-dimensional array using `np.array()` with nested lists:\n"
   ]
  },
  {
   "cell_type": "code",
   "execution_count": 14,
   "metadata": {},
   "outputs": [
    {
     "data": {
      "text/plain": [
       "array([[1, 2, 3],\n",
       "       [4, 5, 6],\n",
       "       [7, 8, 9]])"
      ]
     },
     "execution_count": 14,
     "metadata": {},
     "output_type": "execute_result"
    }
   ],
   "source": [
    "import numpy as np\n",
    "\n",
    "arr = np.array([[1, 2, 3], [4, 5, 6], [7, 8, 9]])\n",
    "arr"
   ]
  },
  {
   "cell_type": "markdown",
   "metadata": {},
   "source": [
    "In this example, we create a 2-dimensional array `arr` by passing a nested list `[[1, 2, 3], [4, 5, 6], [7, 8, 9]]` to the `np.array()` function. The resulting array will have a shape of `(3, 3)`, indicating that it has 3 rows and 3 columns.\n"
   ]
  },
  {
   "cell_type": "markdown",
   "metadata": {},
   "source": [
    "### <a id='toc2_2_'></a>[Using `np.zeros()` Function](#toc0_)\n"
   ]
  },
  {
   "cell_type": "markdown",
   "metadata": {},
   "source": [
    "The `np.zeros()` function is used to create a 2-dimensional array filled with zeros. It takes the shape of the array as input, which can be specified as a tuple `(rows, columns)`.\n"
   ]
  },
  {
   "cell_type": "markdown",
   "metadata": {},
   "source": [
    "Here's an example of creating a 2-dimensional array of zeros using `np.zeros()`:\n"
   ]
  },
  {
   "cell_type": "code",
   "execution_count": 15,
   "metadata": {},
   "outputs": [
    {
     "data": {
      "text/plain": [
       "array([[0., 0., 0., 0.],\n",
       "       [0., 0., 0., 0.],\n",
       "       [0., 0., 0., 0.]])"
      ]
     },
     "execution_count": 15,
     "metadata": {},
     "output_type": "execute_result"
    }
   ],
   "source": [
    "arr = np.zeros((3, 4))\n",
    "arr"
   ]
  },
  {
   "cell_type": "markdown",
   "metadata": {},
   "source": [
    "In this example, we create a 2-dimensional array `arr` using `np.zeros()` with a shape of `(3, 4)`. The resulting array will have 3 rows and 4 columns, and all elements will be initialized to 0.\n"
   ]
  },
  {
   "cell_type": "markdown",
   "metadata": {},
   "source": [
    "### <a id='toc2_3_'></a>[Using `np.ones()` Function](#toc0_)\n"
   ]
  },
  {
   "cell_type": "markdown",
   "metadata": {},
   "source": [
    "Similar to `np.zeros()`, the `np.ones()` function is used to create a 2-dimensional array filled with ones. It also takes the shape of the array as input.\n"
   ]
  },
  {
   "cell_type": "markdown",
   "metadata": {},
   "source": [
    "Here's an example of creating a 2-dimensional array of ones using `np.ones()`:\n"
   ]
  },
  {
   "cell_type": "code",
   "execution_count": 16,
   "metadata": {},
   "outputs": [
    {
     "data": {
      "text/plain": [
       "array([[1., 1., 1.],\n",
       "       [1., 1., 1.]])"
      ]
     },
     "execution_count": 16,
     "metadata": {},
     "output_type": "execute_result"
    }
   ],
   "source": [
    "arr = np.ones((2, 3))\n",
    "arr"
   ]
  },
  {
   "cell_type": "markdown",
   "metadata": {},
   "source": [
    "In this example, we create a 2-dimensional array `arr` using `np.ones()` with a shape of `(2, 3)`. The resulting array will have 2 rows and 3 columns, and all elements will be initialized to 1.\n"
   ]
  },
  {
   "cell_type": "markdown",
   "metadata": {},
   "source": [
    "### <a id='toc2_4_'></a>[Using `np.eye()` Function](#toc0_)\n"
   ]
  },
  {
   "cell_type": "markdown",
   "metadata": {},
   "source": [
    "The `np.eye()` function is used to create a 2-dimensional identity matrix. An identity matrix is a square matrix with ones on the main diagonal and zeros elsewhere. It takes the size of the matrix as input.\n"
   ]
  },
  {
   "cell_type": "markdown",
   "metadata": {},
   "source": [
    "Here's an example of creating an identity matrix using `np.eye()`:\n"
   ]
  },
  {
   "cell_type": "code",
   "execution_count": 17,
   "metadata": {},
   "outputs": [
    {
     "data": {
      "text/plain": [
       "array([[1., 0., 0., 0.],\n",
       "       [0., 1., 0., 0.],\n",
       "       [0., 0., 1., 0.],\n",
       "       [0., 0., 0., 1.]])"
      ]
     },
     "execution_count": 17,
     "metadata": {},
     "output_type": "execute_result"
    }
   ],
   "source": [
    "arr = np.eye(4)\n",
    "arr"
   ]
  },
  {
   "cell_type": "markdown",
   "metadata": {},
   "source": [
    "In this example, we create a 2-dimensional identity matrix `arr` using `np.eye()` with a size of 4. The resulting matrix will have 4 rows and 4 columns, with ones on the main diagonal and zeros elsewhere.\n"
   ]
  },
  {
   "cell_type": "markdown",
   "metadata": {},
   "source": [
    "### <a id='toc2_5_'></a>[Using `np.diag()` Function](#toc0_)\n"
   ]
  },
  {
   "cell_type": "markdown",
   "metadata": {},
   "source": [
    "The `np.diag()` function is used to create a 2-dimensional diagonal matrix. A diagonal matrix is a matrix with non-zero elements only on the main diagonal. It takes a 1-dimensional array or a list as input, representing the diagonal elements.\n"
   ]
  },
  {
   "cell_type": "markdown",
   "metadata": {},
   "source": [
    "Here's an example of creating a diagonal matrix using `np.diag()`:\n"
   ]
  },
  {
   "cell_type": "code",
   "execution_count": 18,
   "metadata": {},
   "outputs": [
    {
     "data": {
      "text/plain": [
       "array([[1, 0, 0, 0],\n",
       "       [0, 2, 0, 0],\n",
       "       [0, 0, 3, 0],\n",
       "       [0, 0, 0, 4]])"
      ]
     },
     "execution_count": 18,
     "metadata": {},
     "output_type": "execute_result"
    }
   ],
   "source": [
    "arr = np.diag([1, 2, 3, 4])\n",
    "arr"
   ]
  },
  {
   "cell_type": "markdown",
   "metadata": {},
   "source": [
    "In this example, we create a 2-dimensional diagonal matrix `arr` using `np.diag()` with the diagonal elements `[1, 2, 3, 4]`. The resulting matrix will have the specified elements on the main diagonal and zeros elsewhere.\n"
   ]
  },
  {
   "cell_type": "markdown",
   "metadata": {},
   "source": [
    "These are some of the commonly used functions for creating 2-dimensional arrays in NumPy. By using these functions, you can easily create matrices of desired shapes and initialize them with specific values.\n"
   ]
  },
  {
   "cell_type": "markdown",
   "metadata": {},
   "source": [
    "In the next section, we will explore creating higher-dimensional arrays, which are arrays with more than two dimensions."
   ]
  },
  {
   "cell_type": "markdown",
   "metadata": {},
   "source": [
    "## <a id='toc3_'></a>[Creating Higher-Dimensional Arrays](#toc0_)"
   ]
  },
  {
   "cell_type": "markdown",
   "metadata": {},
   "source": [
    "NumPy allows you to create arrays with more than two dimensions, known as higher-dimensional arrays or tensors. These arrays can represent complex data structures and are commonly used in various fields, such as computer vision, natural language processing, and scientific simulations. In this section, we will explore how to create higher-dimensional arrays in NumPy.\n"
   ]
  },
  {
   "cell_type": "markdown",
   "metadata": {},
   "source": [
    "### <a id='toc3_1_'></a>[Creating 3-Dimensional Arrays](#toc0_)\n"
   ]
  },
  {
   "cell_type": "markdown",
   "metadata": {},
   "source": [
    "A 3-dimensional array, also known as a tensor, can be thought of as a stack of matrices. Each element in a 3-dimensional array is identified by three indices: depth, row, and column.\n"
   ]
  },
  {
   "cell_type": "markdown",
   "metadata": {},
   "source": [
    "To create a 3-dimensional array using the `np.array()` function, you can pass a nested list of lists as an argument. Each inner list represents a 2-dimensional matrix, and the outer list represents the stack of matrices.\n"
   ]
  },
  {
   "cell_type": "markdown",
   "metadata": {},
   "source": [
    "Here's an example of creating a 3-dimensional array using `np.array()`:\n"
   ]
  },
  {
   "cell_type": "code",
   "execution_count": 20,
   "metadata": {},
   "outputs": [
    {
     "data": {
      "text/plain": [
       "array([[[ 1,  2],\n",
       "        [ 3,  4]],\n",
       "\n",
       "       [[ 5,  6],\n",
       "        [ 7,  8]],\n",
       "\n",
       "       [[ 9, 10],\n",
       "        [11, 12]]])"
      ]
     },
     "execution_count": 20,
     "metadata": {},
     "output_type": "execute_result"
    }
   ],
   "source": [
    "import numpy as np\n",
    "\n",
    "arr = np.array([\n",
    "    [[1, 2], [3, 4]],\n",
    "    [[5, 6], [7, 8]],\n",
    "    [[9, 10], [11, 12]]\n",
    "])\n",
    "arr"
   ]
  },
  {
   "cell_type": "markdown",
   "metadata": {},
   "source": [
    "In this example, we create a 3-dimensional array `arr` by passing a nested list of lists to the `np.array()` function. The resulting array will have a shape of `(3, 2, 2)`, indicating that it has 3 matrices, each with 2 rows and 2 columns.\n"
   ]
  },
  {
   "cell_type": "markdown",
   "metadata": {},
   "source": [
    "You can also use functions like `np.zeros()` and `np.ones()` to create 3-dimensional arrays filled with zeros or ones, respectively. Simply pass a tuple specifying the shape of the array as an argument:\n"
   ]
  },
  {
   "cell_type": "code",
   "execution_count": 22,
   "metadata": {},
   "outputs": [
    {
     "data": {
      "text/plain": [
       "array([[[0., 0., 0., 0.],\n",
       "        [0., 0., 0., 0.],\n",
       "        [0., 0., 0., 0.]],\n",
       "\n",
       "       [[0., 0., 0., 0.],\n",
       "        [0., 0., 0., 0.],\n",
       "        [0., 0., 0., 0.]]])"
      ]
     },
     "execution_count": 22,
     "metadata": {},
     "output_type": "execute_result"
    }
   ],
   "source": [
    "zeros_arr = np.zeros((2, 3, 4))\n",
    "zeros_arr"
   ]
  },
  {
   "cell_type": "code",
   "execution_count": 23,
   "metadata": {},
   "outputs": [
    {
     "data": {
      "text/plain": [
       "array([[[1., 1.],\n",
       "        [1., 1.]],\n",
       "\n",
       "       [[1., 1.],\n",
       "        [1., 1.]],\n",
       "\n",
       "       [[1., 1.],\n",
       "        [1., 1.]]])"
      ]
     },
     "execution_count": 23,
     "metadata": {},
     "output_type": "execute_result"
    }
   ],
   "source": [
    "ones_arr = np.ones((3, 2, 2))\n",
    "ones_arr"
   ]
  },
  {
   "cell_type": "markdown",
   "metadata": {},
   "source": [
    "In the above examples, `zeros_arr` will be a 3-dimensional array of shape `(2, 3, 4)` filled with zeros, and `ones_arr` will be a 3-dimensional array of shape `(3, 2, 2)` filled with ones.\n"
   ]
  },
  {
   "cell_type": "markdown",
   "metadata": {},
   "source": [
    "### <a id='toc3_2_'></a>[Creating Arrays with More Than 3 Dimensions](#toc0_)\n"
   ]
  },
  {
   "cell_type": "markdown",
   "metadata": {},
   "source": [
    "NumPy allows you to create arrays with any number of dimensions. The process of creating arrays with more than three dimensions is similar to creating 3-dimensional arrays, but with additional levels of nesting.\n"
   ]
  },
  {
   "cell_type": "markdown",
   "metadata": {},
   "source": [
    "To create an array with more than three dimensions using the `np.array()` function, you can nest lists further to represent the additional dimensions.\n"
   ]
  },
  {
   "cell_type": "markdown",
   "metadata": {},
   "source": [
    "Here's an example of creating a 4-dimensional array using `np.array()`:\n"
   ]
  },
  {
   "cell_type": "code",
   "execution_count": 24,
   "metadata": {},
   "outputs": [
    {
     "data": {
      "text/plain": [
       "array([[[[ 1,  2],\n",
       "         [ 3,  4]],\n",
       "\n",
       "        [[ 5,  6],\n",
       "         [ 7,  8]]],\n",
       "\n",
       "\n",
       "       [[[ 9, 10],\n",
       "         [11, 12]],\n",
       "\n",
       "        [[13, 14],\n",
       "         [15, 16]]]])"
      ]
     },
     "execution_count": 24,
     "metadata": {},
     "output_type": "execute_result"
    }
   ],
   "source": [
    "arr = np.array([\n",
    "    [[[1, 2], [3, 4]], [[5, 6], [7, 8]]],\n",
    "    [[[9, 10], [11, 12]], [[13, 14], [15, 16]]]\n",
    "])\n",
    "arr"
   ]
  },
  {
   "cell_type": "markdown",
   "metadata": {},
   "source": [
    "In this example, we create a 4-dimensional array `arr` by passing a nested list of lists of lists to the `np.array()` function. The resulting array will have a shape of `(2, 2, 2, 2)`, indicating that it has 2 blocks, each containing 2 matrices, and each matrix has 2 rows and 2 columns.\n"
   ]
  },
  {
   "cell_type": "markdown",
   "metadata": {},
   "source": [
    "Similarly, you can use `np.zeros()` and `np.ones()` to create higher-dimensional arrays filled with zeros or ones by specifying the desired shape as a tuple:\n"
   ]
  },
  {
   "cell_type": "code",
   "execution_count": 25,
   "metadata": {},
   "outputs": [
    {
     "data": {
      "text/plain": [
       "array([[[[0., 0., 0., 0., 0.],\n",
       "         [0., 0., 0., 0., 0.],\n",
       "         [0., 0., 0., 0., 0.],\n",
       "         [0., 0., 0., 0., 0.]],\n",
       "\n",
       "        [[0., 0., 0., 0., 0.],\n",
       "         [0., 0., 0., 0., 0.],\n",
       "         [0., 0., 0., 0., 0.],\n",
       "         [0., 0., 0., 0., 0.]],\n",
       "\n",
       "        [[0., 0., 0., 0., 0.],\n",
       "         [0., 0., 0., 0., 0.],\n",
       "         [0., 0., 0., 0., 0.],\n",
       "         [0., 0., 0., 0., 0.]]],\n",
       "\n",
       "\n",
       "       [[[0., 0., 0., 0., 0.],\n",
       "         [0., 0., 0., 0., 0.],\n",
       "         [0., 0., 0., 0., 0.],\n",
       "         [0., 0., 0., 0., 0.]],\n",
       "\n",
       "        [[0., 0., 0., 0., 0.],\n",
       "         [0., 0., 0., 0., 0.],\n",
       "         [0., 0., 0., 0., 0.],\n",
       "         [0., 0., 0., 0., 0.]],\n",
       "\n",
       "        [[0., 0., 0., 0., 0.],\n",
       "         [0., 0., 0., 0., 0.],\n",
       "         [0., 0., 0., 0., 0.],\n",
       "         [0., 0., 0., 0., 0.]]]])"
      ]
     },
     "execution_count": 25,
     "metadata": {},
     "output_type": "execute_result"
    }
   ],
   "source": [
    "zeros_arr = np.zeros((2, 3, 4, 5))\n",
    "zeros_arr"
   ]
  },
  {
   "cell_type": "code",
   "execution_count": 26,
   "metadata": {},
   "outputs": [
    {
     "data": {
      "text/plain": [
       "array([[[[1., 1.],\n",
       "         [1., 1.]],\n",
       "\n",
       "        [[1., 1.],\n",
       "         [1., 1.]]],\n",
       "\n",
       "\n",
       "       [[[1., 1.],\n",
       "         [1., 1.]],\n",
       "\n",
       "        [[1., 1.],\n",
       "         [1., 1.]]],\n",
       "\n",
       "\n",
       "       [[[1., 1.],\n",
       "         [1., 1.]],\n",
       "\n",
       "        [[1., 1.],\n",
       "         [1., 1.]]]])"
      ]
     },
     "execution_count": 26,
     "metadata": {},
     "output_type": "execute_result"
    }
   ],
   "source": [
    "ones_arr = np.ones((3, 2, 2, 2))\n",
    "ones_arr"
   ]
  },
  {
   "cell_type": "markdown",
   "metadata": {},
   "source": [
    "In the above examples, `zeros_arr` will be a 4-dimensional array of shape `(2, 3, 4, 5)` filled with zeros, and `ones_arr` will be a 4-dimensional array of shape `(3, 2, 2, 2)` filled with ones.\n"
   ]
  },
  {
   "cell_type": "markdown",
   "metadata": {},
   "source": [
    "Creating higher-dimensional arrays allows you to represent and manipulate complex data structures efficiently using NumPy. However, working with higher-dimensional arrays can be more challenging in terms of visualization and interpretation compared to lower-dimensional arrays.\n"
   ]
  },
  {
   "cell_type": "markdown",
   "metadata": {},
   "source": [
    "In the next section, we will discuss how to create arrays with specific data types using the `dtype` parameter."
   ]
  },
  {
   "cell_type": "markdown",
   "metadata": {},
   "source": [
    "## <a id='toc4_'></a>[Creating Arrays with Specific Data Types](#toc0_)"
   ]
  },
  {
   "cell_type": "markdown",
   "metadata": {},
   "source": [
    "When creating NumPy arrays, you have the flexibility to specify the data type of the elements in the array. This is particularly useful when you need to optimize memory usage or ensure compatibility with certain numerical computations.\n"
   ]
  },
  {
   "cell_type": "markdown",
   "metadata": {},
   "source": [
    "### <a id='toc4_1_'></a>[Specifying Data Types Using `dtype` Parameter](#toc0_)\n"
   ]
  },
  {
   "cell_type": "markdown",
   "metadata": {},
   "source": [
    "To specify the data type of a NumPy array during creation, you can use the `dtype` parameter. The `dtype` parameter accepts a NumPy data type object or a string that represents the desired data type.\n"
   ]
  },
  {
   "cell_type": "markdown",
   "metadata": {},
   "source": [
    "Here are a few examples of creating arrays with specific data types:\n"
   ]
  },
  {
   "cell_type": "code",
   "execution_count": 27,
   "metadata": {},
   "outputs": [],
   "source": [
    "import numpy as np"
   ]
  },
  {
   "cell_type": "code",
   "execution_count": 28,
   "metadata": {},
   "outputs": [
    {
     "data": {
      "text/plain": [
       "array([1, 2, 3, 4, 5], dtype=int32)"
      ]
     },
     "execution_count": 28,
     "metadata": {},
     "output_type": "execute_result"
    }
   ],
   "source": [
    "# Create an array of integers\n",
    "arr_int = np.array([1, 2, 3, 4, 5], dtype=np.int32)\n",
    "arr_int"
   ]
  },
  {
   "cell_type": "code",
   "execution_count": 29,
   "metadata": {},
   "outputs": [
    {
     "data": {
      "text/plain": [
       "array([1., 2., 3., 4., 5.])"
      ]
     },
     "execution_count": 29,
     "metadata": {},
     "output_type": "execute_result"
    }
   ],
   "source": [
    "# Create an array of floating-point numbers\n",
    "arr_float = np.array([1.0, 2.0, 3.0, 4.0, 5.0], dtype=np.float64)\n",
    "arr_float"
   ]
  },
  {
   "cell_type": "code",
   "execution_count": 30,
   "metadata": {},
   "outputs": [
    {
     "data": {
      "text/plain": [
       "array([1.+2.j, 3.+4.j, 5.+6.j])"
      ]
     },
     "execution_count": 30,
     "metadata": {},
     "output_type": "execute_result"
    }
   ],
   "source": [
    "# Create an array of complex numbers\n",
    "arr_complex = np.array([1+2j, 3+4j, 5+6j], dtype=np.complex128)\n",
    "arr_complex"
   ]
  },
  {
   "cell_type": "markdown",
   "metadata": {},
   "source": [
    "In the above examples, we specify the data type using the `dtype` parameter. The `np.int32` represents 32-bit integers, `np.float64` represents 64-bit floating-point numbers, and `np.complex128` represents 128-bit complex numbers.\n"
   ]
  },
  {
   "cell_type": "markdown",
   "metadata": {},
   "source": [
    "You can also use string aliases for common data types. For example, `'int32'` is equivalent to `np.int32`, `'float64'` is equivalent to `np.float64`, and so on.\n"
   ]
  },
  {
   "cell_type": "markdown",
   "metadata": {},
   "source": [
    "### <a id='toc4_2_'></a>[Common NumPy Data Types](#toc0_)\n"
   ]
  },
  {
   "cell_type": "markdown",
   "metadata": {},
   "source": [
    "NumPy provides a wide range of data types to suit different numerical requirements. Here are some commonly used NumPy data types:\n",
    "\n",
    "- **Integer Types**:\n",
    "  - `np.int8`: 8-bit signed integer\n",
    "  - `np.int16`: 16-bit signed integer\n",
    "  - `np.int32`: 32-bit signed integer (default integer type)\n",
    "  - `np.int64`: 64-bit signed integer\n",
    "  - `np.uint8`: 8-bit unsigned integer\n",
    "  - `np.uint16`: 16-bit unsigned integer\n",
    "  - `np.uint32`: 32-bit unsigned integer\n",
    "  - `np.uint64`: 64-bit unsigned integer\n",
    "\n",
    "- **Floating-Point Types**:\n",
    "  - `np.float16`: 16-bit half-precision floating-point\n",
    "  - `np.float32`: 32-bit single-precision floating-point\n",
    "  - `np.float64`: 64-bit double-precision floating-point (default float type)\n",
    "\n",
    "- **Complex Types**:\n",
    "  - `np.complex64`: Complex number represented by two 32-bit floats\n",
    "  - `np.complex128`: Complex number represented by two 64-bit floats\n",
    "\n",
    "- **Boolean Type**:\n",
    "  - `np.bool`: Boolean (True or False)\n",
    "\n",
    "- **String Type**:\n",
    "  - `np.str`: String (fixed-length)\n",
    "\n",
    "- **Object Type**:\n",
    "  - `np.object`: Python object\n"
   ]
  },
  {
   "cell_type": "markdown",
   "metadata": {},
   "source": [
    "When creating arrays, if you don't specify the `dtype` parameter, NumPy will infer the data type based on the input data. However, it's good practice to explicitly specify the data type when you have specific requirements or when you want to ensure consistent behavior across different platforms.\n"
   ]
  },
  {
   "cell_type": "markdown",
   "metadata": {},
   "source": [
    "Choosing the appropriate data type can help optimize memory usage and performance. For example, using smaller data types like `np.int8` or `np.float32` can save memory when working with large arrays, while using larger data types like `np.int64` or `np.float64` provides higher precision when needed.\n"
   ]
  },
  {
   "cell_type": "markdown",
   "metadata": {},
   "source": [
    "It's important to note that when performing arithmetic operations between arrays with different data types, NumPy will automatically upcast to the more precise data type to avoid loss of precision.\n"
   ]
  },
  {
   "cell_type": "markdown",
   "metadata": {},
   "source": [
    "By specifying data types using the `dtype` parameter and understanding the common NumPy data types, you can create arrays that are tailored to your specific needs and ensure optimal performance in your numerical computations."
   ]
  },
  {
   "cell_type": "markdown",
   "metadata": {},
   "source": [
    "## <a id='toc5_'></a>[Random Number Generation](#toc0_)"
   ]
  },
  {
   "cell_type": "markdown",
   "metadata": {},
   "source": [
    "NumPy provides a powerful random number generation module called `numpy.random` that allows you to generate arrays of random numbers from various probability distributions. Random number generation is essential for many applications, such as simulation, sampling, and machine learning. In this section, we will explore some commonly used functions for generating random numbers in NumPy.\n"
   ]
  },
  {
   "cell_type": "markdown",
   "metadata": {},
   "source": [
    "### <a id='toc5_1_'></a>[Using `np.random.rand()` Function](#toc0_)\n"
   ]
  },
  {
   "cell_type": "markdown",
   "metadata": {},
   "source": [
    "The `np.random.rand()` function generates an array of random numbers uniformly distributed between 0 and 1 (exclusive). You can specify the shape of the array as arguments to the function.\n"
   ]
  },
  {
   "cell_type": "markdown",
   "metadata": {},
   "source": [
    "Here's an example of generating a 1-dimensional array of random numbers using `np.random.rand()`:\n"
   ]
  },
  {
   "cell_type": "code",
   "execution_count": 32,
   "metadata": {},
   "outputs": [
    {
     "data": {
      "text/plain": [
       "array([0.36079625, 0.12834237, 0.44586669, 0.03889144, 0.93868304])"
      ]
     },
     "execution_count": 32,
     "metadata": {},
     "output_type": "execute_result"
    }
   ],
   "source": [
    "import numpy as np\n",
    "\n",
    "arr = np.random.rand(5)\n",
    "arr"
   ]
  },
  {
   "cell_type": "markdown",
   "metadata": {},
   "source": [
    "In this example, we generate a 1-dimensional array `arr` with 5 random numbers uniformly distributed between 0 and 1.\n"
   ]
  },
  {
   "cell_type": "markdown",
   "metadata": {},
   "source": [
    "You can also generate multi-dimensional arrays by passing multiple arguments to `np.random.rand()`:"
   ]
  },
  {
   "cell_type": "code",
   "execution_count": 33,
   "metadata": {},
   "outputs": [
    {
     "data": {
      "text/plain": [
       "array([[0.27061008, 0.47566478, 0.9579106 ],\n",
       "       [0.07080668, 0.15745824, 0.68639866]])"
      ]
     },
     "execution_count": 33,
     "metadata": {},
     "output_type": "execute_result"
    }
   ],
   "source": [
    "arr = np.random.rand(2, 3)\n",
    "arr"
   ]
  },
  {
   "cell_type": "markdown",
   "metadata": {},
   "source": [
    "In this case, `arr` will be a 2-dimensional array with shape `(2, 3)`, containing random numbers uniformly distributed between 0 and 1.\n"
   ]
  },
  {
   "cell_type": "markdown",
   "metadata": {},
   "source": [
    "### <a id='toc5_2_'></a>[Using `np.random.randn()` Function](#toc0_)\n"
   ]
  },
  {
   "cell_type": "markdown",
   "metadata": {},
   "source": [
    "The `np.random.randn()` function generates an array of random numbers from the standard normal distribution (mean = 0, variance = 1). Similar to `np.random.rand()`, you can specify the shape of the array as arguments to the function.\n"
   ]
  },
  {
   "cell_type": "markdown",
   "metadata": {},
   "source": [
    "Here's an example of generating a 1-dimensional array of random numbers using `np.random.randn()`:\n"
   ]
  },
  {
   "cell_type": "code",
   "execution_count": 34,
   "metadata": {},
   "outputs": [
    {
     "data": {
      "text/plain": [
       "array([ 0.95288233, -0.4703567 ,  0.34410434, -0.58624647, -1.43790633])"
      ]
     },
     "execution_count": 34,
     "metadata": {},
     "output_type": "execute_result"
    }
   ],
   "source": [
    "arr = np.random.randn(5)\n",
    "arr"
   ]
  },
  {
   "cell_type": "markdown",
   "metadata": {},
   "source": [
    "In this example, we generate a 1-dimensional array `arr` with 5 random numbers drawn from the standard normal distribution.\n"
   ]
  },
  {
   "cell_type": "markdown",
   "metadata": {},
   "source": [
    "You can also generate multi-dimensional arrays by passing multiple arguments to `np.random.randn()`:\n"
   ]
  },
  {
   "cell_type": "code",
   "execution_count": 35,
   "metadata": {},
   "outputs": [
    {
     "data": {
      "text/plain": [
       "array([[ 0.13455581,  1.81802856, -0.84439148],\n",
       "       [-2.11816079,  1.25958663,  1.79134576]])"
      ]
     },
     "execution_count": 35,
     "metadata": {},
     "output_type": "execute_result"
    }
   ],
   "source": [
    "arr = np.random.randn(2, 3)\n",
    "arr"
   ]
  },
  {
   "cell_type": "markdown",
   "metadata": {},
   "source": [
    "In this case, `arr` will be a 2-dimensional array with shape `(2, 3)`, containing random numbers drawn from the standard normal distribution.\n"
   ]
  },
  {
   "cell_type": "markdown",
   "metadata": {},
   "source": [
    "### <a id='toc5_3_'></a>[Using `np.random.randint()` Function](#toc0_)\n"
   ]
  },
  {
   "cell_type": "markdown",
   "metadata": {},
   "source": [
    "The `np.random.randint()` function generates an array of random integers within a specified range. You can specify the lower and upper bounds of the range (inclusive) and the shape of the array.\n"
   ]
  },
  {
   "cell_type": "markdown",
   "metadata": {},
   "source": [
    "Here's an example of generating a 1-dimensional array of random integers using `np.random.randint()`:\n"
   ]
  },
  {
   "cell_type": "code",
   "execution_count": 36,
   "metadata": {},
   "outputs": [
    {
     "data": {
      "text/plain": [
       "array([7, 1, 1, 6, 1])"
      ]
     },
     "execution_count": 36,
     "metadata": {},
     "output_type": "execute_result"
    }
   ],
   "source": [
    "arr = np.random.randint(1, 10, size=5)\n",
    "arr"
   ]
  },
  {
   "cell_type": "markdown",
   "metadata": {},
   "source": [
    "In this example, we generate a 1-dimensional array `arr` with 5 random integers between 1 and 10 (inclusive).\n"
   ]
  },
  {
   "cell_type": "markdown",
   "metadata": {},
   "source": [
    "You can also generate multi-dimensional arrays by specifying the shape as a tuple:\n"
   ]
  },
  {
   "cell_type": "code",
   "execution_count": 38,
   "metadata": {},
   "outputs": [
    {
     "data": {
      "text/plain": [
       "array([[8, 7, 8],\n",
       "       [4, 9, 4]])"
      ]
     },
     "execution_count": 38,
     "metadata": {},
     "output_type": "execute_result"
    }
   ],
   "source": [
    "arr = np.random.randint(1, 10, size=(2, 3))\n",
    "arr"
   ]
  },
  {
   "cell_type": "markdown",
   "metadata": {},
   "source": [
    "In this case, `arr` will be a 2-dimensional array with shape `(2, 3)`, containing random integers between 1 and 10 (inclusive).\n"
   ]
  },
  {
   "cell_type": "markdown",
   "metadata": {},
   "source": [
    "These are just a few examples of the random number generation functions available in NumPy. The `numpy.random` module provides many more functions for generating random numbers from various probability distributions, such as `np.random.normal()`, `np.random.poisson()`, and `np.random.exponential()`, among others.\n"
   ]
  },
  {
   "cell_type": "markdown",
   "metadata": {},
   "source": [
    "Random number generation is a powerful tool in NumPy that allows you to create arrays with random values for various purposes, such as initializing model parameters, generating synthetic datasets, or performing Monte Carlo simulations.\n"
   ]
  },
  {
   "cell_type": "markdown",
   "metadata": {},
   "source": [
    "## <a id='toc6_'></a>[Conclusion](#toc0_)"
   ]
  },
  {
   "cell_type": "markdown",
   "metadata": {},
   "source": [
    "In this lecture, we explored the various ways to create NumPy arrays, which are the fundamental data structures in NumPy. Let's recap the key points and discuss the importance of array creation in NumPy.\n"
   ]
  },
  {
   "cell_type": "markdown",
   "metadata": {},
   "source": [
    "### <a id='toc6_1_'></a>[Recap of Key Points](#toc0_)\n"
   ]
  },
  {
   "cell_type": "markdown",
   "metadata": {},
   "source": [
    "- NumPy arrays are homogeneous, multidimensional containers for storing elements of the same data type.\n",
    "- Arrays can be created from scratch using functions like `np.array()`, `np.zeros()`, `np.ones()`, `np.arange()`, and `np.linspace()`.\n",
    "- We can create 1-dimensional, 2-dimensional, and higher-dimensional arrays using nested lists or by specifying the desired shape.\n",
    "- NumPy provides functions to create special arrays like identity matrices (`np.eye()`) and diagonal matrices (`np.diag()`).\n",
    "- The `numpy.random` module allows us to generate arrays of random numbers from various probability distributions."
   ]
  },
  {
   "cell_type": "markdown",
   "metadata": {},
   "source": [
    "### <a id='toc6_2_'></a>[Importance of Array Creation in NumPy](#toc0_)\n"
   ]
  },
  {
   "cell_type": "markdown",
   "metadata": {},
   "source": [
    "Creating arrays is a fundamental step in using NumPy effectively. Here are a few reasons why array creation is crucial:\n",
    "\n",
    "1. **Efficient data storage**: NumPy arrays provide a compact and efficient way to store large amounts of homogeneous data. By creating arrays of the appropriate shape and data type, you can optimize memory usage and perform computations efficiently.\n",
    "\n",
    "2. **Enabling vectorized operations**: NumPy's power lies in its ability to perform element-wise operations on arrays without the need for explicit loops. By creating arrays with the desired shape and structure, you can take advantage of NumPy's vectorized operations, which lead to concise and efficient code.\n",
    "\n",
    "3. **Interoperability with other libraries**: Many scientific computing and data analysis libraries in Python, such as SciPy, Pandas, and scikit-learn, rely on NumPy arrays as their primary data structure. Creating arrays in the appropriate format allows seamless integration with these libraries, enabling you to leverage their functionalities effectively.\n",
    "\n",
    "4. **Facilitating mathematical computations**: NumPy arrays are designed to support a wide range of mathematical operations and functions. By creating arrays with the required shape and data type, you can perform complex mathematical computations efficiently, such as matrix multiplication, eigenvalue decomposition, and Fourier transforms.\n"
   ]
  },
  {
   "cell_type": "markdown",
   "metadata": {},
   "source": [
    "### <a id='toc6_3_'></a>[Further Resources](#toc0_)\n"
   ]
  },
  {
   "cell_type": "markdown",
   "metadata": {},
   "source": [
    "To deepen your understanding of array creation and NumPy in general, here are some valuable resources:\n",
    "\n",
    "- [NumPy official documentation](https://numpy.org/doc/): The official documentation provides comprehensive information on NumPy, including detailed explanations of functions, modules, and best practices.\n",
    "- [NumPy User Guide](https://numpy.org/doc/stable/user/index.html): The user guide offers a wide range of tutorials, how-to guides, and examples to help you master NumPy.\n",
    "- [SciPy Lecture Notes](https://scipy-lectures.org/): This free online book provides an in-depth introduction to the scientific Python ecosystem, including NumPy, SciPy, Matplotlib, and Pandas.\n",
    "- [Python Data Science Handbook](https://jakevdp.github.io/PythonDataScienceHandbook/): This online book by Jake VanderPlas covers various aspects of data science using Python, with a strong emphasis on NumPy and related libraries.\n"
   ]
  },
  {
   "cell_type": "markdown",
   "metadata": {},
   "source": [
    "By exploring these resources and practicing array creation techniques, you'll gain a solid foundation in NumPy and be well-equipped to tackle a wide range of data manipulation and numerical computing tasks.\n"
   ]
  },
  {
   "cell_type": "markdown",
   "metadata": {},
   "source": [
    "Remember, mastering array creation is just the beginning of your NumPy journey. As you progress, you'll discover the full potential of NumPy's powerful features and its seamless integration with the broader scientific Python ecosystem."
   ]
  }
 ],
 "metadata": {
  "kernelspec": {
   "display_name": "py310",
   "language": "python",
   "name": "python3"
  },
  "language_info": {
   "codemirror_mode": {
    "name": "ipython",
    "version": 3
   },
   "file_extension": ".py",
   "mimetype": "text/x-python",
   "name": "python",
   "nbconvert_exporter": "python",
   "pygments_lexer": "ipython3",
   "version": "3.10.12"
  }
 },
 "nbformat": 4,
 "nbformat_minor": 2
}
