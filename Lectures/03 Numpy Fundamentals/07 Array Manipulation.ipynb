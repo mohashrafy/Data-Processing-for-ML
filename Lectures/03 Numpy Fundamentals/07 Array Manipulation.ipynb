{
 "cells": [
  {
   "cell_type": "markdown",
   "metadata": {},
   "source": [
    "<img src=\"./images/banner.png\" width=\"800\">"
   ]
  },
  {
   "cell_type": "markdown",
   "metadata": {},
   "source": [
    "# Introduction to Array Manipulation"
   ]
  },
  {
   "cell_type": "markdown",
   "metadata": {},
   "source": [
    "Array manipulation is a fundamental concept in NumPy that allows you to modify the shape, structure, and organization of arrays efficiently. It involves a set of techniques and operations that enable you to reshape, resize, transpose, split, and combine arrays to suit your specific needs.\n"
   ]
  },
  {
   "cell_type": "markdown",
   "metadata": {},
   "source": [
    "Array manipulation refers to the process of changing the shape, size, or arrangement of elements within an array without modifying its underlying data. NumPy provides a rich set of functions and methods that allow you to perform various array manipulation operations easily.\n"
   ]
  },
  {
   "cell_type": "markdown",
   "metadata": {},
   "source": [
    "Some common array manipulation operations include:\n",
    "\n",
    "- **Reshaping:** Changing the shape of an array while preserving its elements.\n",
    "- **Flattening:** Converting a multi-dimensional array into a one-dimensional array.\n",
    "- **Transposing:** Swapping the axes of an array.\n",
    "- **Stacking:** Combining multiple arrays along a specified axis.\n",
    "- **Splitting:** Dividing an array into multiple sub-arrays.\n",
    "- **Concatenating:** Joining multiple arrays together.\n",
    "- **Tiling:** Repeating an array a specified number of times.\n"
   ]
  },
  {
   "cell_type": "markdown",
   "metadata": {},
   "source": [
    "These operations allow you to adapt arrays to different shapes and structures required for various computations and algorithms.\n"
   ]
  },
  {
   "cell_type": "markdown",
   "metadata": {},
   "source": [
    "Array manipulation is a crucial aspect of working with NumPy due to several reasons:\n",
    "\n",
    "1. **Efficiency:** NumPy's array manipulation operations are highly optimized and implemented in C, providing excellent performance. Manipulating arrays using NumPy functions is much faster than using pure Python loops or list comprehensions.\n",
    "\n",
    "2. **Memory Optimization:** Array manipulation operations in NumPy often avoid creating unnecessary copies of data. Many operations, such as reshaping and transposing, return views of the original array, which share the same underlying memory. This memory efficiency is particularly important when working with large datasets.\n",
    "\n",
    "3. **Readability and Conciseness:** NumPy's array manipulation functions provide a clean and intuitive syntax, making the code more readable and concise. Instead of writing lengthy loops to manipulate arrays, you can achieve the desired result with a single function call.\n",
    "\n",
    "4. **Compatibility with Other Libraries:** NumPy arrays are the foundation for many other scientific computing libraries in Python, such as SciPy, Pandas, and scikit-learn. Array manipulation operations in NumPy seamlessly integrate with these libraries, enabling efficient data processing and analysis pipelines.\n",
    "\n",
    "5. **Mathematical Consistency:** Array manipulation operations in NumPy adhere to mathematical conventions and broadcasting rules. This consistency ensures that operations behave as expected and allows for intuitive mathematical expressions involving arrays.\n"
   ]
  },
  {
   "cell_type": "markdown",
   "metadata": {},
   "source": [
    "By leveraging array manipulation techniques in NumPy, you can efficiently reshape, reorganize, and transform your data to suit the requirements of your analysis or algorithm. It enables you to perform complex computations and data transformations with minimal code and optimal performance.\n"
   ]
  },
  {
   "cell_type": "markdown",
   "metadata": {},
   "source": [
    "In the following sections, we will explore various array manipulation operations in detail, providing examples and explanations of how to use them effectively in your NumPy code."
   ]
  },
  {
   "cell_type": "markdown",
   "metadata": {},
   "source": [
    "**Table of contents**<a id='toc0_'></a>    \n",
    "- [Reshaping Arrays](#toc1_)    \n",
    "  - [Reshaping 1D Arrays to 2D Arrays](#toc1_1_)    \n",
    "  - [Reshaping 2D Arrays to 1D Arrays](#toc1_2_)    \n",
    "  - [Reshaping to Higher Dimensions](#toc1_3_)    \n",
    "- [Flattening Arrays](#toc2_)    \n",
    "  - [Using `np.ravel()` to Flatten Arrays](#toc2_1_)    \n",
    "  - [Flattening Arrays with `np.flatten()`](#toc2_2_)    \n",
    "- [Stacking Arrays](#toc3_)    \n",
    "  - [Vertical Stacking with `np.vstack()`](#toc3_1_)    \n",
    "  - [Horizontal Stacking with `np.hstack()`](#toc3_2_)    \n",
    "- [Splitting Arrays](#toc4_)    \n",
    "  - [Splitting Arrays Vertically with `np.vsplit()`](#toc4_1_)    \n",
    "  - [Splitting Arrays Horizontally with `np.hsplit()`](#toc4_2_)    \n",
    "- [Concatenating Arrays](#toc5_)    \n",
    "  - [Concatenating Arrays Using `np.concatenate()`](#toc5_1_)    \n",
    "  - [Specifying the Concatenation Axis](#toc5_2_)    \n",
    "- [Tiling Arrays](#toc6_)    \n",
    "  - [Tiling Arrays with `np.tile()`](#toc6_1_)    \n",
    "  - [Creating Grids with `np.meshgrid()`](#toc6_2_)    \n",
    "- [Summary and Conclusion](#toc7_)    \n",
    "- [Practice Exercise: Analyzing Sales Data](#toc8_)    \n",
    "  - [Solution](#toc8_1_)    \n",
    "\n",
    "<!-- vscode-jupyter-toc-config\n",
    "\tnumbering=false\n",
    "\tanchor=true\n",
    "\tflat=false\n",
    "\tminLevel=2\n",
    "\tmaxLevel=6\n",
    "\t/vscode-jupyter-toc-config -->\n",
    "<!-- THIS CELL WILL BE REPLACED ON TOC UPDATE. DO NOT WRITE YOUR TEXT IN THIS CELL -->"
   ]
  },
  {
   "cell_type": "markdown",
   "metadata": {},
   "source": [
    "## <a id='toc1_'></a>[Reshaping Arrays](#toc0_)\n",
    "\n",
    "Reshaping an array means changing its shape while preserving its elements. NumPy provides the `reshape()` function to efficiently reshape arrays to the desired shape. In this section, we will explore how to reshape arrays from 1D to 2D, 2D to 1D, and to higher dimensions.\n",
    "\n",
    "### <a id='toc1_1_'></a>[Reshaping 1D Arrays to 2D Arrays](#toc0_)"
   ]
  },
  {
   "cell_type": "markdown",
   "metadata": {},
   "source": [
    "To reshape a 1D array to a 2D array, you need to specify the new shape as a tuple of integers representing the number of rows and columns. The total number of elements in the reshaped array must match the original array.\n"
   ]
  },
  {
   "cell_type": "code",
   "execution_count": 1,
   "metadata": {},
   "outputs": [],
   "source": [
    "import numpy as np"
   ]
  },
  {
   "cell_type": "code",
   "execution_count": 3,
   "metadata": {},
   "outputs": [
    {
     "data": {
      "text/plain": [
       "array([[1, 2, 3],\n",
       "       [4, 5, 6]])"
      ]
     },
     "execution_count": 3,
     "metadata": {},
     "output_type": "execute_result"
    }
   ],
   "source": [
    "arr = np.array([1, 2, 3, 4, 5, 6])\n",
    "reshaped_arr = arr.reshape((2, 3))\n",
    "reshaped_arr"
   ]
  },
  {
   "cell_type": "markdown",
   "metadata": {},
   "source": [
    "In this example, the 1D array `arr` with 6 elements is reshaped into a 2D array `reshaped_arr` with 2 rows and 3 columns."
   ]
  },
  {
   "cell_type": "markdown",
   "metadata": {},
   "source": [
    "### <a id='toc1_2_'></a>[Reshaping 2D Arrays to 1D Arrays](#toc0_)\n"
   ]
  },
  {
   "cell_type": "markdown",
   "metadata": {},
   "source": [
    "To reshape a 2D array to a 1D array, you can use the `reshape()` function with a single integer representing the total number of elements in the array. Alternatively, you can use `-1` as a placeholder, and NumPy will automatically calculate the appropriate size for the dimension.\n"
   ]
  },
  {
   "cell_type": "code",
   "execution_count": 4,
   "metadata": {},
   "outputs": [
    {
     "data": {
      "text/plain": [
       "array([1, 2, 3, 4, 5, 6])"
      ]
     },
     "execution_count": 4,
     "metadata": {},
     "output_type": "execute_result"
    }
   ],
   "source": [
    "arr = np.array([[1, 2, 3], [4, 5, 6]])\n",
    "arr.reshape(6)"
   ]
  },
  {
   "cell_type": "code",
   "execution_count": 5,
   "metadata": {},
   "outputs": [
    {
     "data": {
      "text/plain": [
       "array([1, 2, 3, 4, 5, 6])"
      ]
     },
     "execution_count": 5,
     "metadata": {},
     "output_type": "execute_result"
    }
   ],
   "source": [
    "arr.reshape(-1)"
   ]
  },
  {
   "cell_type": "markdown",
   "metadata": {},
   "source": [
    "In this example, the 2D array `arr` with shape `(2, 3)` is reshaped into a 1D array `reshaped_arr` with 6 elements.\n"
   ]
  },
  {
   "cell_type": "markdown",
   "metadata": {},
   "source": [
    "### <a id='toc1_3_'></a>[Reshaping to Higher Dimensions](#toc0_)\n"
   ]
  },
  {
   "cell_type": "markdown",
   "metadata": {},
   "source": [
    "NumPy allows you to reshape arrays to higher dimensions by specifying the desired shape as a tuple of integers. The product of the shape elements must match the total number of elements in the original array.\n"
   ]
  },
  {
   "cell_type": "code",
   "execution_count": 6,
   "metadata": {},
   "outputs": [
    {
     "data": {
      "text/plain": [
       "array([[[1, 2],\n",
       "        [3, 4]],\n",
       "\n",
       "       [[5, 6],\n",
       "        [7, 8]]])"
      ]
     },
     "execution_count": 6,
     "metadata": {},
     "output_type": "execute_result"
    }
   ],
   "source": [
    "arr = np.array([1, 2, 3, 4, 5, 6, 7, 8])\n",
    "arr.reshape((2, 2, 2))"
   ]
  },
  {
   "cell_type": "markdown",
   "metadata": {},
   "source": [
    "In this example, the 1D array `arr` with 8 elements is reshaped into a 3D array `reshaped_arr` with shape `(2, 2, 2)`.\n"
   ]
  },
  {
   "cell_type": "markdown",
   "metadata": {},
   "source": [
    "It's important to note that when reshaping arrays, the total number of elements in the original array must match the product of the shape elements in the reshaped array. If there is a mismatch, NumPy will raise a `ValueError`.\n"
   ]
  },
  {
   "cell_type": "markdown",
   "metadata": {},
   "source": [
    "Reshaping arrays is a fundamental operation in NumPy that allows you to adapt the shape of your data to suit different requirements. It enables you to efficiently manipulate and organize your data for various computations and algorithms.\n"
   ]
  },
  {
   "cell_type": "markdown",
   "metadata": {},
   "source": [
    "## <a id='toc2_'></a>[Flattening Arrays](#toc0_)"
   ]
  },
  {
   "cell_type": "markdown",
   "metadata": {},
   "source": [
    "Flattening an array means converting a multi-dimensional array into a one-dimensional array. NumPy provides two main functions for flattening arrays: `np.ravel()` and `np.flatten()`. While both functions achieve the same result, they have some differences in terms of behavior and performance.\n"
   ]
  },
  {
   "cell_type": "markdown",
   "metadata": {},
   "source": [
    "### <a id='toc2_1_'></a>[Using `np.ravel()` to Flatten Arrays](#toc0_)\n"
   ]
  },
  {
   "cell_type": "markdown",
   "metadata": {},
   "source": [
    "The `np.ravel()` function returns a flattened view of the input array. It does not create a new array but instead returns a view of the original array in a flattened form. Any changes made to the flattened array will affect the original array.\n"
   ]
  },
  {
   "cell_type": "code",
   "execution_count": 11,
   "metadata": {},
   "outputs": [
    {
     "data": {
      "text/plain": [
       "array([1, 2, 3, 4, 5, 6])"
      ]
     },
     "execution_count": 11,
     "metadata": {},
     "output_type": "execute_result"
    }
   ],
   "source": [
    "arr = np.array([[1, 2, 3], [4, 5, 6]])\n",
    "flattened_arr = np.ravel(arr)\n",
    "flattened_arr"
   ]
  },
  {
   "cell_type": "markdown",
   "metadata": {},
   "source": [
    "In this example, the 2D array `arr` is flattened into a 1D array `flattened_arr` using `np.ravel()`.\n"
   ]
  },
  {
   "cell_type": "markdown",
   "metadata": {},
   "source": [
    "Since `np.ravel()` returns a view of the original array, modifying the flattened array will affect the original array:\n"
   ]
  },
  {
   "cell_type": "code",
   "execution_count": 12,
   "metadata": {},
   "outputs": [
    {
     "data": {
      "text/plain": [
       "array([[10,  2,  3],\n",
       "       [ 4,  5,  6]])"
      ]
     },
     "execution_count": 12,
     "metadata": {},
     "output_type": "execute_result"
    }
   ],
   "source": [
    "flattened_arr[0] = 10\n",
    "arr"
   ]
  },
  {
   "cell_type": "markdown",
   "metadata": {},
   "source": [
    "### <a id='toc2_2_'></a>[Flattening Arrays with `np.flatten()`](#toc0_)\n"
   ]
  },
  {
   "cell_type": "markdown",
   "metadata": {},
   "source": [
    "The `np.flatten()` function, on the other hand, returns a new flattened array. It creates a copy of the original array and returns a new 1D array. Modifying the flattened array does not affect the original array.\n"
   ]
  },
  {
   "cell_type": "code",
   "execution_count": 13,
   "metadata": {},
   "outputs": [
    {
     "data": {
      "text/plain": [
       "array([1, 2, 3, 4, 5, 6])"
      ]
     },
     "execution_count": 13,
     "metadata": {},
     "output_type": "execute_result"
    }
   ],
   "source": [
    "arr = np.array([[1, 2, 3], [4, 5, 6]])\n",
    "flattened_arr = arr.flatten()\n",
    "flattened_arr"
   ]
  },
  {
   "cell_type": "markdown",
   "metadata": {},
   "source": [
    "In this example, the 2D array `arr` is flattened into a new 1D array `flattened_arr` using `np.flatten()`.\n"
   ]
  },
  {
   "cell_type": "markdown",
   "metadata": {},
   "source": [
    "Since `np.flatten()` creates a new array, modifying the flattened array does not affect the original array:\n"
   ]
  },
  {
   "cell_type": "code",
   "execution_count": 14,
   "metadata": {},
   "outputs": [
    {
     "data": {
      "text/plain": [
       "array([[1, 2, 3],\n",
       "       [4, 5, 6]])"
      ]
     },
     "execution_count": 14,
     "metadata": {},
     "output_type": "execute_result"
    }
   ],
   "source": [
    "flattened_arr[0] = 10\n",
    "arr"
   ]
  },
  {
   "cell_type": "markdown",
   "metadata": {},
   "source": [
    "The choice between `np.ravel()` and `np.flatten()` depends on your specific requirements. If you need a flattened view of the array and want to avoid creating a new copy, `np.ravel()` is more memory-efficient. However, if you need a new flattened array that is independent of the original array, `np.flatten()` is the appropriate choice.\n"
   ]
  },
  {
   "cell_type": "markdown",
   "metadata": {},
   "source": [
    "Flattening arrays is useful in various scenarios, such as:\n",
    "- Preparing data for certain algorithms that require a 1D array.\n",
    "- Simplifying array operations by working with a flattened version.\n",
    "- Serializing multi-dimensional data for storage or transmission.\n"
   ]
  },
  {
   "cell_type": "markdown",
   "metadata": {},
   "source": [
    "It's important to consider the memory implications and the desired behavior when choosing between `np.ravel()` and `np.flatten()`.\n"
   ]
  },
  {
   "cell_type": "markdown",
   "metadata": {},
   "source": [
    "## <a id='toc3_'></a>[Stacking Arrays](#toc0_)"
   ]
  },
  {
   "cell_type": "markdown",
   "metadata": {},
   "source": [
    "Stacking arrays refers to combining multiple arrays along a specified axis. NumPy provides several functions for stacking arrays, including `np.vstack()` for vertical stacking and `np.hstack()` for horizontal stacking. These functions allow you to concatenate arrays along different dimensions.\n"
   ]
  },
  {
   "cell_type": "markdown",
   "metadata": {},
   "source": [
    "### <a id='toc3_1_'></a>[Vertical Stacking with `np.vstack()`](#toc0_)\n"
   ]
  },
  {
   "cell_type": "markdown",
   "metadata": {},
   "source": [
    "The `np.vstack()` function stacks arrays vertically, meaning it combines them along the first axis (rows). The arrays to be stacked must have the same number of columns.\n"
   ]
  },
  {
   "cell_type": "code",
   "execution_count": 17,
   "metadata": {},
   "outputs": [
    {
     "data": {
      "text/plain": [
       "array([[1, 2, 3],\n",
       "       [4, 5, 6]])"
      ]
     },
     "execution_count": 17,
     "metadata": {},
     "output_type": "execute_result"
    }
   ],
   "source": [
    "arr1 = np.array([1, 2, 3])\n",
    "arr2 = np.array([4, 5, 6])\n",
    "stacked_arr = np.vstack((arr1, arr2))\n",
    "stacked_arr"
   ]
  },
  {
   "cell_type": "markdown",
   "metadata": {},
   "source": [
    "In this example, `arr1` and `arr2` are 1D arrays that are vertically stacked using `np.vstack()`.\n"
   ]
  },
  {
   "cell_type": "markdown",
   "metadata": {},
   "source": [
    "The arrays `arr1` and `arr2` are combined along the first axis, creating a 2D array with `arr1` as the first row and `arr2` as the second row.\n"
   ]
  },
  {
   "cell_type": "markdown",
   "metadata": {},
   "source": [
    "You can also vertically stack 2D arrays, as long as they have the same number of columns:\n"
   ]
  },
  {
   "cell_type": "code",
   "execution_count": 18,
   "metadata": {},
   "outputs": [
    {
     "data": {
      "text/plain": [
       "array([[1, 2],\n",
       "       [3, 4],\n",
       "       [5, 6],\n",
       "       [7, 8]])"
      ]
     },
     "execution_count": 18,
     "metadata": {},
     "output_type": "execute_result"
    }
   ],
   "source": [
    "arr1 = np.array([[1, 2], [3, 4]])\n",
    "arr2 = np.array([[5, 6], [7, 8]])\n",
    "stacked_arr = np.vstack((arr1, arr2))\n",
    "stacked_arr"
   ]
  },
  {
   "cell_type": "markdown",
   "metadata": {},
   "source": [
    "### <a id='toc3_2_'></a>[Horizontal Stacking with `np.hstack()`](#toc0_)\n"
   ]
  },
  {
   "cell_type": "markdown",
   "metadata": {},
   "source": [
    "The `np.hstack()` function stacks arrays horizontally, meaning it combines them along the second axis (columns). The arrays to be stacked must have the same number of rows.\n"
   ]
  },
  {
   "cell_type": "code",
   "execution_count": 19,
   "metadata": {},
   "outputs": [
    {
     "data": {
      "text/plain": [
       "array([[1, 2, 5, 6],\n",
       "       [3, 4, 7, 8]])"
      ]
     },
     "execution_count": 19,
     "metadata": {},
     "output_type": "execute_result"
    }
   ],
   "source": [
    "arr1 = np.array([[1, 2], [3, 4]])\n",
    "arr2 = np.array([[5, 6], [7, 8]])\n",
    "stacked_arr = np.hstack((arr1, arr2))\n",
    "stacked_arr"
   ]
  },
  {
   "cell_type": "markdown",
   "metadata": {},
   "source": [
    "In this example, `arr1` and `arr2` are 2D arrays that are horizontally stacked using `np.hstack()`.\n"
   ]
  },
  {
   "cell_type": "markdown",
   "metadata": {},
   "source": [
    "The arrays `arr1` and `arr2` are combined along the second axis, creating a new 2D array with the columns of `arr1` followed by the columns of `arr2`.\n"
   ]
  },
  {
   "cell_type": "markdown",
   "metadata": {},
   "source": [
    "You can also horizontally stack 1D arrays, which will result in a 1D array:\n"
   ]
  },
  {
   "cell_type": "code",
   "execution_count": 20,
   "metadata": {},
   "outputs": [
    {
     "data": {
      "text/plain": [
       "array([1, 2, 3, 4, 5, 6])"
      ]
     },
     "execution_count": 20,
     "metadata": {},
     "output_type": "execute_result"
    }
   ],
   "source": [
    "arr1 = np.array([1, 2, 3])\n",
    "arr2 = np.array([4, 5, 6])\n",
    "stacked_arr = np.hstack((arr1, arr2))\n",
    "stacked_arr"
   ]
  },
  {
   "cell_type": "markdown",
   "metadata": {},
   "source": [
    "Stacking arrays is useful when you need to combine multiple arrays into a single array along a specific axis. It allows you to concatenate data from different sources or create larger arrays from smaller ones.\n"
   ]
  },
  {
   "cell_type": "markdown",
   "metadata": {},
   "source": [
    "It's important to ensure that the arrays being stacked have compatible shapes along the non-stacked axes. If the shapes are incompatible, NumPy will raise a `ValueError`.\n"
   ]
  },
  {
   "cell_type": "markdown",
   "metadata": {},
   "source": [
    "## <a id='toc4_'></a>[Splitting Arrays](#toc0_)"
   ]
  },
  {
   "cell_type": "markdown",
   "metadata": {},
   "source": [
    "Splitting arrays refers to dividing an array into multiple sub-arrays along a specified axis. NumPy provides functions for splitting arrays, including `np.vsplit()` for vertical splitting and `np.hsplit()` for horizontal splitting. These functions allow you to partition an array into smaller arrays based on a given number of splits or indices.\n"
   ]
  },
  {
   "cell_type": "markdown",
   "metadata": {},
   "source": [
    "### <a id='toc4_1_'></a>[Splitting Arrays Vertically with `np.vsplit()`](#toc0_)\n"
   ]
  },
  {
   "cell_type": "markdown",
   "metadata": {},
   "source": [
    "The `np.vsplit()` function splits an array vertically, meaning it divides the array along the first axis (rows) into multiple sub-arrays. You can specify the number of equal-sized sub-arrays or provide an array of indices indicating where to split.\n"
   ]
  },
  {
   "cell_type": "code",
   "execution_count": 21,
   "metadata": {},
   "outputs": [
    {
     "data": {
      "text/plain": [
       "[array([[1, 2, 3, 4]]), array([[5, 6, 7, 8]]), array([[ 9, 10, 11, 12]])]"
      ]
     },
     "execution_count": 21,
     "metadata": {},
     "output_type": "execute_result"
    }
   ],
   "source": [
    "arr = np.array([[1, 2, 3, 4],\n",
    "                [5, 6, 7, 8],\n",
    "                [9, 10, 11, 12]])\n",
    "\n",
    "# Splitting into 3 equal-sized sub-arrays\n",
    "split_arr = np.vsplit(arr, 3)\n",
    "split_arr"
   ]
  },
  {
   "cell_type": "markdown",
   "metadata": {},
   "source": [
    "In this example, the 2D array `arr` is vertically split into 3 equal-sized sub-arrays using `np.vsplit()`.\n"
   ]
  },
  {
   "cell_type": "markdown",
   "metadata": {},
   "source": [
    "Each sub-array represents a portion of the original array split along the first axis.\n"
   ]
  },
  {
   "cell_type": "markdown",
   "metadata": {},
   "source": [
    "You can also specify an array of indices to indicate where to split the array:\n"
   ]
  },
  {
   "cell_type": "code",
   "execution_count": 22,
   "metadata": {},
   "outputs": [
    {
     "data": {
      "text/plain": [
       "[array([[1, 2, 3, 4],\n",
       "        [5, 6, 7, 8]]),\n",
       " array([[ 9, 10, 11, 12],\n",
       "        [13, 14, 15, 16]])]"
      ]
     },
     "execution_count": 22,
     "metadata": {},
     "output_type": "execute_result"
    }
   ],
   "source": [
    "arr = np.array([[1, 2, 3, 4],\n",
    "                [5, 6, 7, 8],\n",
    "                [9, 10, 11, 12],\n",
    "                [13, 14, 15, 16]])\n",
    "\n",
    "# Splitting at specific indices\n",
    "split_arr = np.vsplit(arr, [2])\n",
    "split_arr"
   ]
  },
  {
   "cell_type": "markdown",
   "metadata": {},
   "source": [
    "In this case, the array `arr` is split vertically at index 2, resulting in two sub-arrays\n"
   ]
  },
  {
   "cell_type": "markdown",
   "metadata": {},
   "source": [
    "### <a id='toc4_2_'></a>[Splitting Arrays Horizontally with `np.hsplit()`](#toc0_)\n"
   ]
  },
  {
   "cell_type": "markdown",
   "metadata": {},
   "source": [
    "The `np.hsplit()` function splits an array horizontally, meaning it divides the array along the second axis (columns) into multiple sub-arrays. Similar to `np.vsplit()`, you can specify the number of equal-sized sub-arrays or provide an array of indices.\n"
   ]
  },
  {
   "cell_type": "code",
   "execution_count": 23,
   "metadata": {},
   "outputs": [
    {
     "data": {
      "text/plain": [
       "[array([[ 1,  2],\n",
       "        [ 5,  6],\n",
       "        [ 9, 10]]),\n",
       " array([[ 3,  4],\n",
       "        [ 7,  8],\n",
       "        [11, 12]])]"
      ]
     },
     "execution_count": 23,
     "metadata": {},
     "output_type": "execute_result"
    }
   ],
   "source": [
    "arr = np.array([[1, 2, 3, 4],\n",
    "                [5, 6, 7, 8],\n",
    "                [9, 10, 11, 12]])\n",
    "\n",
    "# Splitting into 2 equal-sized sub-arrays\n",
    "split_arr = np.hsplit(arr, 2)\n",
    "split_arr"
   ]
  },
  {
   "cell_type": "markdown",
   "metadata": {},
   "source": [
    "In this example, the 2D array `arr` is horizontally split into 2 equal-sized sub-arrays using `np.hsplit()`.\n"
   ]
  },
  {
   "cell_type": "markdown",
   "metadata": {},
   "source": [
    "The resulting `split_arr` will be a list of sub-arrays. Each sub-array represents a portion of the original array split along the second axis."
   ]
  },
  {
   "cell_type": "markdown",
   "metadata": {},
   "source": [
    "You can also specify an array of indices to indicate where to split the array horizontally:\n"
   ]
  },
  {
   "cell_type": "code",
   "execution_count": 24,
   "metadata": {},
   "outputs": [
    {
     "data": {
      "text/plain": [
       "[array([[1],\n",
       "        [5],\n",
       "        [9]]),\n",
       " array([[ 2,  3],\n",
       "        [ 6,  7],\n",
       "        [10, 11]]),\n",
       " array([[ 4],\n",
       "        [ 8],\n",
       "        [12]])]"
      ]
     },
     "execution_count": 24,
     "metadata": {},
     "output_type": "execute_result"
    }
   ],
   "source": [
    "arr = np.array([[1, 2, 3, 4],\n",
    "                [5, 6, 7, 8],\n",
    "                [9, 10, 11, 12]])\n",
    "\n",
    "# Splitting at specific indices\n",
    "split_arr = np.hsplit(arr, [1, 3])\n",
    "split_arr"
   ]
  },
  {
   "cell_type": "markdown",
   "metadata": {},
   "source": [
    "In this case, the array `arr` is split horizontally at indices 1 and 3, resulting in three sub-arrays."
   ]
  },
  {
   "cell_type": "markdown",
   "metadata": {},
   "source": [
    "Splitting arrays is useful when you need to divide an array into smaller portions for further processing or analysis. It allows you to work with subsets of the data or distribute the data among different variables or functions.\n"
   ]
  },
  {
   "cell_type": "markdown",
   "metadata": {},
   "source": [
    "It's important to ensure that the number of splits or the indices provided are compatible with the shape of the array. If the splits or indices are invalid, NumPy will raise a `ValueError`.\n"
   ]
  },
  {
   "cell_type": "markdown",
   "metadata": {},
   "source": [
    "## <a id='toc5_'></a>[Concatenating Arrays](#toc0_)"
   ]
  },
  {
   "cell_type": "markdown",
   "metadata": {},
   "source": [
    "Concatenating arrays refers to joining multiple arrays together along a specified axis. NumPy provides the `np.concatenate()` function to concatenate arrays efficiently. This function allows you to combine arrays with compatible shapes and create a new array that contains all the elements from the input arrays.\n"
   ]
  },
  {
   "cell_type": "markdown",
   "metadata": {},
   "source": [
    "### <a id='toc5_1_'></a>[Concatenating Arrays Using `np.concatenate()`](#toc0_)\n"
   ]
  },
  {
   "cell_type": "markdown",
   "metadata": {},
   "source": [
    "The `np.concatenate()` function takes a sequence of arrays as input and concatenates them along a specified axis. By default, the concatenation is performed along the first axis (axis 0).\n"
   ]
  },
  {
   "cell_type": "code",
   "execution_count": 25,
   "metadata": {},
   "outputs": [
    {
     "data": {
      "text/plain": [
       "array([[1, 2],\n",
       "       [3, 4],\n",
       "       [5, 6],\n",
       "       [7, 8]])"
      ]
     },
     "execution_count": 25,
     "metadata": {},
     "output_type": "execute_result"
    }
   ],
   "source": [
    "arr1 = np.array([[1, 2], [3, 4]])\n",
    "arr2 = np.array([[5, 6], [7, 8]])\n",
    "np.concatenate((arr1, arr2))"
   ]
  },
  {
   "cell_type": "markdown",
   "metadata": {},
   "source": [
    "In this example, `arr1` and `arr2` are 2D arrays that are concatenated using `np.concatenate()`.\n"
   ]
  },
  {
   "cell_type": "markdown",
   "metadata": {},
   "source": [
    "The arrays `arr1` and `arr2` are joined along the first axis (axis 0), creating a new 2D array that contains all the rows from both arrays.\n"
   ]
  },
  {
   "cell_type": "markdown",
   "metadata": {},
   "source": [
    "You can also concatenate 1D arrays, which will result in a 1D array:\n"
   ]
  },
  {
   "cell_type": "code",
   "execution_count": 26,
   "metadata": {},
   "outputs": [
    {
     "data": {
      "text/plain": [
       "array([1, 2, 3, 4, 5, 6])"
      ]
     },
     "execution_count": 26,
     "metadata": {},
     "output_type": "execute_result"
    }
   ],
   "source": [
    "arr1 = np.array([1, 2, 3])\n",
    "arr2 = np.array([4, 5, 6])\n",
    "np.concatenate((arr1, arr2))"
   ]
  },
  {
   "cell_type": "markdown",
   "metadata": {},
   "source": [
    "### <a id='toc5_2_'></a>[Specifying the Concatenation Axis](#toc0_)\n"
   ]
  },
  {
   "cell_type": "markdown",
   "metadata": {},
   "source": [
    "By default, `np.concatenate()` concatenates arrays along the first axis (axis 0). However, you can specify the axis along which the concatenation should be performed using the `axis` parameter.\n"
   ]
  },
  {
   "cell_type": "code",
   "execution_count": 27,
   "metadata": {},
   "outputs": [
    {
     "data": {
      "text/plain": [
       "array([[1, 2, 5, 6],\n",
       "       [3, 4, 7, 8]])"
      ]
     },
     "execution_count": 27,
     "metadata": {},
     "output_type": "execute_result"
    }
   ],
   "source": [
    "arr1 = np.array([[1, 2], [3, 4]])\n",
    "arr2 = np.array([[5, 6], [7, 8]])\n",
    "np.concatenate((arr1, arr2), axis=1)"
   ]
  },
  {
   "cell_type": "markdown",
   "metadata": {},
   "source": [
    "In this example, `arr1` and `arr2` are concatenated along the second axis (axis 1) using `np.concatenate()` with `axis=1`.\n"
   ]
  },
  {
   "cell_type": "markdown",
   "metadata": {},
   "source": [
    "The arrays `arr1` and `arr2` are joined along the second axis, creating a new 2D array where the columns of `arr1` are followed by the columns of `arr2`.\n"
   ]
  },
  {
   "cell_type": "markdown",
   "metadata": {},
   "source": [
    "You can also concatenate more than two arrays at once by passing them as a sequence to `np.concatenate()`:\n"
   ]
  },
  {
   "cell_type": "code",
   "execution_count": 28,
   "metadata": {},
   "outputs": [
    {
     "data": {
      "text/plain": [
       "array([[ 1,  2],\n",
       "       [ 3,  4],\n",
       "       [ 5,  6],\n",
       "       [ 7,  8],\n",
       "       [ 9, 10],\n",
       "       [11, 12]])"
      ]
     },
     "execution_count": 28,
     "metadata": {},
     "output_type": "execute_result"
    }
   ],
   "source": [
    "arr1 = np.array([[1, 2], [3, 4]])\n",
    "arr2 = np.array([[5, 6], [7, 8]])\n",
    "arr3 = np.array([[9, 10], [11, 12]])\n",
    "np.concatenate((arr1, arr2, arr3))"
   ]
  },
  {
   "cell_type": "markdown",
   "metadata": {},
   "source": [
    "Concatenating arrays is useful when you need to combine multiple arrays into a single array along a specific axis. It allows you to merge data from different sources or create larger arrays from smaller ones.\n"
   ]
  },
  {
   "cell_type": "markdown",
   "metadata": {},
   "source": [
    "It's important to ensure that the arrays being concatenated have compatible shapes along the non-concatenated axes. If the shapes are incompatible, NumPy will raise a `ValueError`.\n"
   ]
  },
  {
   "cell_type": "markdown",
   "metadata": {},
   "source": [
    "## <a id='toc6_'></a>[Tiling Arrays](#toc0_)"
   ]
  },
  {
   "cell_type": "markdown",
   "metadata": {},
   "source": [
    "Tiling arrays refers to creating new arrays by repeating existing arrays in a specified pattern. NumPy provides the `np.tile()` function to efficiently tile arrays, allowing you to create larger arrays with repeated elements. Additionally, NumPy offers the `np.meshgrid()` function to create coordinate grids based on given arrays.\n"
   ]
  },
  {
   "cell_type": "markdown",
   "metadata": {},
   "source": [
    "### <a id='toc6_1_'></a>[Tiling Arrays with `np.tile()`](#toc0_)\n"
   ]
  },
  {
   "cell_type": "markdown",
   "metadata": {},
   "source": [
    "The `np.tile()` function creates a new array by repeating an input array a specified number of times along each axis. It takes two arguments: the input array and a tuple or array specifying the number of repetitions along each axis.\n"
   ]
  },
  {
   "cell_type": "code",
   "execution_count": 29,
   "metadata": {},
   "outputs": [
    {
     "data": {
      "text/plain": [
       "array([[1, 2, 1, 2, 1, 2],\n",
       "       [3, 4, 3, 4, 3, 4],\n",
       "       [1, 2, 1, 2, 1, 2],\n",
       "       [3, 4, 3, 4, 3, 4]])"
      ]
     },
     "execution_count": 29,
     "metadata": {},
     "output_type": "execute_result"
    }
   ],
   "source": [
    "arr = np.array([[1, 2], [3, 4]])\n",
    "tiled_arr = np.tile(arr, (2, 3))\n",
    "tiled_arr\n"
   ]
  },
  {
   "cell_type": "markdown",
   "metadata": {},
   "source": [
    "In this example, the 2D array `arr` is tiled using `np.tile()` with the repetition pattern specified as `(2, 3)`.\n"
   ]
  },
  {
   "cell_type": "markdown",
   "metadata": {},
   "source": [
    "The input array `arr` is repeated 2 times along the first axis (rows) and 3 times along the second axis (columns), creating a new 2D array with the tiled pattern.\n"
   ]
  },
  {
   "cell_type": "markdown",
   "metadata": {},
   "source": [
    "You can also tile 1D arrays:\n"
   ]
  },
  {
   "cell_type": "code",
   "execution_count": 30,
   "metadata": {},
   "outputs": [
    {
     "data": {
      "text/plain": [
       "array([1, 2, 3, 1, 2, 3, 1, 2, 3, 1, 2, 3])"
      ]
     },
     "execution_count": 30,
     "metadata": {},
     "output_type": "execute_result"
    }
   ],
   "source": [
    "arr = np.array([1, 2, 3])\n",
    "tiled_arr = np.tile(arr, 4)\n",
    "tiled_arr"
   ]
  },
  {
   "cell_type": "markdown",
   "metadata": {},
   "source": [
    "The 1D array `arr` is repeated 4 times to create a new 1D array with the tiled elements.\n"
   ]
  },
  {
   "cell_type": "markdown",
   "metadata": {},
   "source": [
    "### <a id='toc6_2_'></a>[Creating Grids with `np.meshgrid()`](#toc0_)\n"
   ]
  },
  {
   "cell_type": "markdown",
   "metadata": {},
   "source": [
    "The `np.meshgrid()` function generates coordinate matrices from one-dimensional coordinate arrays. It is commonly used to create coordinate grids for plotting or evaluating functions over a grid of points.\n"
   ]
  },
  {
   "cell_type": "code",
   "execution_count": 31,
   "metadata": {},
   "outputs": [],
   "source": [
    "x = np.linspace(0, 1, 3)\n",
    "y = np.linspace(0, 1, 2)"
   ]
  },
  {
   "cell_type": "code",
   "execution_count": 33,
   "metadata": {},
   "outputs": [
    {
     "data": {
      "text/plain": [
       "array([0. , 0.5, 1. ])"
      ]
     },
     "execution_count": 33,
     "metadata": {},
     "output_type": "execute_result"
    }
   ],
   "source": [
    "x"
   ]
  },
  {
   "cell_type": "code",
   "execution_count": 34,
   "metadata": {},
   "outputs": [
    {
     "data": {
      "text/plain": [
       "array([0., 1.])"
      ]
     },
     "execution_count": 34,
     "metadata": {},
     "output_type": "execute_result"
    }
   ],
   "source": [
    "y"
   ]
  },
  {
   "cell_type": "code",
   "execution_count": 35,
   "metadata": {},
   "outputs": [],
   "source": [
    "X, Y = np.meshgrid(x, y)"
   ]
  },
  {
   "cell_type": "code",
   "execution_count": 37,
   "metadata": {},
   "outputs": [
    {
     "data": {
      "text/plain": [
       "array([[0. , 0.5, 1. ],\n",
       "       [0. , 0.5, 1. ]])"
      ]
     },
     "execution_count": 37,
     "metadata": {},
     "output_type": "execute_result"
    }
   ],
   "source": [
    "X"
   ]
  },
  {
   "cell_type": "code",
   "execution_count": 38,
   "metadata": {},
   "outputs": [
    {
     "data": {
      "text/plain": [
       "array([[0., 0., 0.],\n",
       "       [1., 1., 1.]])"
      ]
     },
     "execution_count": 38,
     "metadata": {},
     "output_type": "execute_result"
    }
   ],
   "source": [
    "Y"
   ]
  },
  {
   "cell_type": "markdown",
   "metadata": {},
   "source": [
    "In this example, `x` and `y` are 1D arrays representing the coordinates along the x-axis and y-axis, respectively. `np.meshgrid()` is used to create coordinate matrices `X` and `Y` from these arrays.\n"
   ]
  },
  {
   "cell_type": "markdown",
   "metadata": {},
   "source": [
    "`X` represents the x-coordinates of the grid, while `Y` represents the y-coordinates. Each element of `X` and `Y` corresponds to a point on the coordinate grid.\n"
   ]
  },
  {
   "cell_type": "markdown",
   "metadata": {},
   "source": [
    "You can use these coordinate matrices to evaluate functions or create meshes for plotting:\n"
   ]
  },
  {
   "cell_type": "code",
   "execution_count": 39,
   "metadata": {},
   "outputs": [
    {
     "data": {
      "image/png": "[encoded data removed]",
      "text/plain": [
       "<Figure size 640x480 with 2 Axes>"
      ]
     },
     "metadata": {},
     "output_type": "display_data"
    }
   ],
   "source": [
    "import numpy as np\n",
    "import matplotlib.pyplot as plt\n",
    "\n",
    "x = np.linspace(-5, 5, 100)\n",
    "y = np.linspace(-5, 5, 100)\n",
    "X, Y = np.meshgrid(x, y)\n",
    "Z = np.sin(X) + np.cos(Y)\n",
    "\n",
    "plt.contourf(X, Y, Z)\n",
    "plt.colorbar()\n",
    "plt.show()"
   ]
  },
  {
   "cell_type": "markdown",
   "metadata": {},
   "source": [
    "In this example, `np.meshgrid()` is used to create coordinate matrices `X` and `Y` over a range of values. The function `Z = np.sin(X) + np.cos(Y)` is evaluated at each point on the grid, and the resulting values are plotted using a contour plot.\n"
   ]
  },
  {
   "cell_type": "markdown",
   "metadata": {},
   "source": [
    "Tiling arrays and creating grids are useful techniques in various scenarios, such as:\n",
    "- Creating larger arrays with repeated patterns for data augmentation or simulation.\n",
    "- Generating coordinate grids for plotting or evaluating functions over a range of values.\n",
    "- Constructing meshes for numerical computations or finite element analysis.\n"
   ]
  },
  {
   "cell_type": "markdown",
   "metadata": {},
   "source": [
    "NumPy's `np.tile()` and `np.meshgrid()` functions provide efficient and convenient ways to tile arrays and create coordinate grids, respectively, enabling you to perform these tasks with minimal code.\n"
   ]
  },
  {
   "cell_type": "markdown",
   "metadata": {},
   "source": [
    "## <a id='toc7_'></a>[Summary and Conclusion](#toc0_)"
   ]
  },
  {
   "cell_type": "markdown",
   "metadata": {},
   "source": [
    "In this lecture, we explored various array manipulation techniques in NumPy. We learned how to reshape, flatten, transpose, stack, split, concatenate, and tile arrays using NumPy's built-in functions. These operations provide powerful tools for transforming and reorganizing arrays to suit different requirements.\n"
   ]
  },
  {
   "cell_type": "markdown",
   "metadata": {},
   "source": [
    "Here's a summary of the key points we covered:\n",
    "\n",
    "- **Reshaping arrays:** We can change the shape of an array using `np.reshape()` while preserving its elements. This allows us to convert 1D arrays to 2D arrays, 2D arrays to 1D arrays, and reshape arrays to higher dimensions.\n",
    "\n",
    "- **Flattening arrays:** NumPy provides `np.ravel()` and `np.flatten()` functions to convert multi-dimensional arrays into 1D arrays. `np.ravel()` returns a flattened view of the array, while `np.flatten()` returns a new flattened copy of the array.\n",
    "\n",
    "- **Transposing arrays:** We can swap the axes of an array using `np.transpose()` or the `T` attribute. Transposing a 2D array interchanges its rows and columns, while transposing higher-dimensional arrays allows for more complex axis permutations.\n",
    "\n",
    "- **Stacking arrays:** NumPy provides `np.vstack()` and `np.hstack()` functions to stack arrays vertically (along the first axis) and horizontally (along the second axis), respectively. Stacking allows us to combine multiple arrays into a single array.\n",
    "\n",
    "- **Splitting arrays:** We can split an array into multiple sub-arrays using `np.vsplit()` and `np.hsplit()` functions. `np.vsplit()` splits an array vertically (along the first axis), while `np.hsplit()` splits an array horizontally (along the second axis).\n",
    "\n",
    "- **Concatenating arrays:** NumPy's `np.concatenate()` function allows us to join multiple arrays together along a specified axis. We can concatenate arrays along the first axis (default) or specify a different axis using the `axis` parameter.\n",
    "\n",
    "- **Tiling arrays:** We can create new arrays by repeating existing arrays in a specified pattern using `np.tile()`. This function enables us to create larger arrays with repeated elements. Additionally, `np.meshgrid()` is used to create coordinate grids from one-dimensional coordinate arrays.\n"
   ]
  },
  {
   "cell_type": "markdown",
   "metadata": {},
   "source": [
    "Throughout the lecture, we also discussed best practices and tips for array manipulation, such as choosing the right manipulation function, avoiding unnecessary copies, and leveraging broadcasting for efficient computations.\n"
   ]
  },
  {
   "cell_type": "markdown",
   "metadata": {},
   "source": [
    "Array manipulation is a fundamental skill in NumPy and plays a crucial role in data processing, analysis, and visualization. By mastering these techniques, you can efficiently transform and reorganize your data to suit various computational requirements.\n"
   ]
  },
  {
   "cell_type": "markdown",
   "metadata": {},
   "source": [
    "As you continue to work with NumPy, you'll encounter more advanced array manipulation techniques and combine them with other NumPy features to solve complex problems. Practice is key to becoming proficient in array manipulation, so make sure to experiment with different functions and techniques on your own datasets.\n"
   ]
  },
  {
   "cell_type": "markdown",
   "metadata": {},
   "source": [
    "In the next section, we'll dive into some hands-on examples and exercises to reinforce your understanding of array manipulation in NumPy. These examples will help you apply the concepts we've covered to real-world scenarios and solidify your skills.\n"
   ]
  },
  {
   "cell_type": "markdown",
   "metadata": {},
   "source": [
    "Remember, NumPy's array manipulation functions are designed to be efficient and expressive, allowing you to perform complex operations with minimal code. Embrace the power of NumPy's array manipulation capabilities and leverage them to streamline your data processing workflows."
   ]
  },
  {
   "cell_type": "markdown",
   "metadata": {},
   "source": [
    "<img src=\"../images/exercise-banner.gif\" width=\"800\">"
   ]
  },
  {
   "cell_type": "markdown",
   "metadata": {},
   "source": [
    "## <a id='toc8_'></a>[Practice Exercise: Analyzing Sales Data](#toc0_)"
   ]
  },
  {
   "cell_type": "markdown",
   "metadata": {},
   "source": [
    "You are given two NumPy arrays `sales_2021` and `sales_2022` that contain the monthly sales data for a company over the past two years. Each array has shape `(3, 4)`, representing sales data for 3 products over 4 quarters.\n"
   ]
  },
  {
   "cell_type": "code",
   "execution_count": 1,
   "metadata": {},
   "outputs": [],
   "source": [
    "import numpy as np\n",
    "\n",
    "sales_2021 = np.array([[100, 120, 140, 160],\n",
    "                       [200, 220, 240, 260],\n",
    "                       [300, 320, 340, 360]])\n",
    "\n",
    "sales_2022 = np.array([[110, 130, 150, 170],\n",
    "                       [210, 230, 250, 270],\n",
    "                       [310, 330, 350, 370]])"
   ]
  },
  {
   "cell_type": "markdown",
   "metadata": {},
   "source": [
    "Your task is to perform the following operations:\n",
    "\n",
    "1. Combine the sales data for both years into a single array using vertical stacking.\n",
    "2. Reshape the combined sales data into a 1D array.\n",
    "3. Split the combined sales data into separate arrays for each product using horizontal splitting.\n",
    "4. Create a new array that repeats the sales data for each year twice using tiling.\n",
    "5. Calculate the total sales for each year using flattening and summation.\n"
   ]
  },
  {
   "cell_type": "markdown",
   "metadata": {},
   "source": [
    "### <a id='toc8_1_'></a>[Solution](#toc0_)\n"
   ]
  },
  {
   "cell_type": "markdown",
   "metadata": {},
   "source": [
    "1. Combine the sales data for both years into a single array using vertical stacking:"
   ]
  },
  {
   "cell_type": "code",
   "execution_count": 2,
   "metadata": {},
   "outputs": [
    {
     "data": {
      "text/plain": [
       "array([[100, 120, 140, 160],\n",
       "       [200, 220, 240, 260],\n",
       "       [300, 320, 340, 360],\n",
       "       [110, 130, 150, 170],\n",
       "       [210, 230, 250, 270],\n",
       "       [310, 330, 350, 370]])"
      ]
     },
     "execution_count": 2,
     "metadata": {},
     "output_type": "execute_result"
    }
   ],
   "source": [
    "combined_sales = np.vstack((sales_2021, sales_2022))\n",
    "combined_sales"
   ]
  },
  {
   "cell_type": "markdown",
   "metadata": {},
   "source": [
    "2. Reshape the combined sales data into a 1D array:"
   ]
  },
  {
   "cell_type": "code",
   "execution_count": 3,
   "metadata": {},
   "outputs": [
    {
     "data": {
      "text/plain": [
       "array([100, 120, 140, 160, 200, 220, 240, 260, 300, 320, 340, 360, 110,\n",
       "       130, 150, 170, 210, 230, 250, 270, 310, 330, 350, 370])"
      ]
     },
     "execution_count": 3,
     "metadata": {},
     "output_type": "execute_result"
    }
   ],
   "source": [
    "flattened_sales = np.ravel(combined_sales)\n",
    "flattened_sales"
   ]
  },
  {
   "cell_type": "markdown",
   "metadata": {},
   "source": [
    "3. Split the combined sales data into separate arrays for each product using horizontal splitting:"
   ]
  },
  {
   "cell_type": "code",
   "execution_count": 6,
   "metadata": {},
   "outputs": [
    {
     "data": {
      "text/plain": [
       "array([[100, 120, 140, 160],\n",
       "       [200, 220, 240, 260],\n",
       "       [300, 320, 340, 360],\n",
       "       [110, 130, 150, 170],\n",
       "       [210, 230, 250, 270],\n",
       "       [310, 330, 350, 370]])"
      ]
     },
     "execution_count": 6,
     "metadata": {},
     "output_type": "execute_result"
    }
   ],
   "source": [
    "combined_sales"
   ]
  },
  {
   "cell_type": "code",
   "execution_count": 7,
   "metadata": {},
   "outputs": [
    {
     "name": "stdout",
     "output_type": "stream",
     "text": [
      "Sales data for each product:\n",
      "Product 1:\n",
      " [[100 120 140 160]\n",
      " [200 220 240 260]]\n",
      "Product 2:\n",
      " [[300 320 340 360]\n",
      " [110 130 150 170]]\n",
      "Product 3:\n",
      " [[210 230 250 270]\n",
      " [310 330 350 370]]\n"
     ]
    }
   ],
   "source": [
    "product_sales = np.vsplit(combined_sales, 3)\n",
    "print(\"Sales data for each product:\")\n",
    "for i, product in enumerate(product_sales, start=1):\n",
    "    print(f\"Product {i}:\\n\", product)"
   ]
  },
  {
   "cell_type": "markdown",
   "metadata": {},
   "source": [
    "4. Create a new array that repeats the sales data for each year twice using tiling:"
   ]
  },
  {
   "cell_type": "code",
   "execution_count": 8,
   "metadata": {},
   "outputs": [
    {
     "name": "stdout",
     "output_type": "stream",
     "text": [
      "Tiled sales data:\n",
      " [[100 120 140 160]\n",
      " [200 220 240 260]\n",
      " [300 320 340 360]\n",
      " [110 130 150 170]\n",
      " [210 230 250 270]\n",
      " [310 330 350 370]\n",
      " [100 120 140 160]\n",
      " [200 220 240 260]\n",
      " [300 320 340 360]\n",
      " [110 130 150 170]\n",
      " [210 230 250 270]\n",
      " [310 330 350 370]]\n"
     ]
    }
   ],
   "source": [
    "tiled_sales = np.tile(combined_sales, (2, 1))\n",
    "print(\"Tiled sales data:\\n\", tiled_sales)"
   ]
  },
  {
   "cell_type": "markdown",
   "metadata": {},
   "source": [
    "5. Calculate the total sales for each year using flattening and summation:"
   ]
  },
  {
   "cell_type": "code",
   "execution_count": 9,
   "metadata": {},
   "outputs": [
    {
     "name": "stdout",
     "output_type": "stream",
     "text": [
      "Total sales for 2021: 2760\n",
      "Total sales for 2022: 2880\n"
     ]
    }
   ],
   "source": [
    "total_sales_2021 = np.sum(sales_2021)\n",
    "total_sales_2022 = np.sum(sales_2022)\n",
    "print(\"Total sales for 2021:\", total_sales_2021)\n",
    "print(\"Total sales for 2022:\", total_sales_2022)"
   ]
  },
  {
   "cell_type": "markdown",
   "metadata": {},
   "source": [
    "In this exercise, we used various NumPy array manipulation functions to analyze the sales data:\n",
    "\n",
    "1. `np.vstack()` was used to vertically stack the sales data for both years into a single array.\n",
    "2. `np.ravel()` was used to reshape the combined sales data into a 1D array.\n",
    "3. `np.hsplit()` was used to split the combined sales data horizontally into separate arrays for each product.\n",
    "4. `np.tile()` was used to create a new array that repeats the sales data for each year twice.\n",
    "5. `np.sum()` was used to calculate the total sales for each year after flattening the arrays.\n"
   ]
  },
  {
   "cell_type": "markdown",
   "metadata": {},
   "source": [
    "This exercise demonstrates how NumPy's array manipulation functions can be applied to real-world data analysis tasks, such as combining, reshaping, splitting, and aggregating sales data.\n"
   ]
  },
  {
   "cell_type": "markdown",
   "metadata": {},
   "source": [
    "Feel free to modify the sales data arrays and experiment with different operations and functions to further practice and reinforce your understanding of NumPy array manipulation techniques."
   ]
  }
 ],
 "metadata": {
  "kernelspec": {
   "display_name": "py310",
   "language": "python",
   "name": "python3"
  },
  "language_info": {
   "codemirror_mode": {
    "name": "ipython",
    "version": 3
   },
   "file_extension": ".py",
   "mimetype": "text/x-python",
   "name": "python",
   "nbconvert_exporter": "python",
   "pygments_lexer": "ipython3",
   "version": "3.10.12"
  }
 },
 "nbformat": 4,
 "nbformat_minor": 2
}
