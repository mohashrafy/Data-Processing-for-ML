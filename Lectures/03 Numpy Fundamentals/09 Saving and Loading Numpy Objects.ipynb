{
 "cells": [
  {
   "cell_type": "markdown",
   "metadata": {},
   "source": [
    "<img src=\"./images/banner.png\" width=\"800\">"
   ]
  },
  {
   "cell_type": "markdown",
   "metadata": {},
   "source": [
    "# Introduction to Saving and Loading NumPy Objects"
   ]
  },
  {
   "cell_type": "markdown",
   "metadata": {},
   "source": [
    "When working with NumPy, you often need to save your arrays or objects to files for later use or share them with others. NumPy provides a set of functions that allow you to easily save and load NumPy objects to and from files.\n"
   ]
  },
  {
   "cell_type": "markdown",
   "metadata": {},
   "source": [
    "**Why save and load NumPy objects?**\n",
    "- **Persistence**: Saving NumPy objects to files enables you to persist your data and reuse it in future sessions or different scripts.\n",
    "- **Sharing**: Saving NumPy objects to files makes it convenient to share your data with others or transfer it between different systems.\n",
    "- **Checkpointing**: Saving NumPy objects at intermediate stages of your program allows you to create checkpoints and resume computation from those points if needed.\n",
    "- **Data Analysis**: Saving and loading NumPy objects is essential when working with large datasets that cannot fit entirely in memory. You can save and load subsets of the data as required.\n"
   ]
  },
  {
   "cell_type": "markdown",
   "metadata": {},
   "source": [
    "NumPy provides functions for saving and loading objects in various formats, including:\n",
    "- **Binary Format**: NumPy's native binary format (`.npy` or `.npz`) is efficient and preserves the data type and shape information.\n",
    "- **Text Format**: NumPy objects can be saved and loaded in plain text format (`.txt`) using functions like `np.savetxt()` and `np.loadtxt()`.\n",
    "- **CSV Format**: NumPy objects can be saved and loaded in comma-separated values (CSV) format using functions like `np.savetxt()` and `np.genfromtxt()`.\n"
   ]
  },
  {
   "cell_type": "markdown",
   "metadata": {},
   "source": [
    "In the following sections, we will explore these different formats and the corresponding NumPy functions for saving and loading objects. We'll start with saving and loading single and multiple arrays in binary format using `np.save()`, `np.savez()`, and `np.load()`. Then, we'll cover saving and loading arrays in text and CSV formats using `np.savetxt()`, `np.loadtxt()`, and `np.genfromtxt()`.\n"
   ]
  },
  {
   "cell_type": "markdown",
   "metadata": {},
   "source": [
    "By the end of this lecture, you'll be equipped with the knowledge and skills to efficiently save and load your NumPy objects, enabling you to persist and share your data seamlessly.\n"
   ]
  },
  {
   "cell_type": "markdown",
   "metadata": {},
   "source": [
    "Let's dive in and explore the different methods for saving and loading NumPy objects!"
   ]
  },
  {
   "cell_type": "markdown",
   "metadata": {},
   "source": [
    "**Table of contents**<a id='toc0_'></a>    \n",
    "- [Saving NumPy Arrays](#toc1_)    \n",
    "  - [Saving a Single NumPy Array with `np.save()`](#toc1_1_)    \n",
    "  - [Saving Multiple NumPy Arrays with `np.savez()`](#toc1_2_)    \n",
    "  - [Saving NumPy Arrays in Compressed Format with `np.savez_compressed()`](#toc1_3_)    \n",
    "- [Loading NumPy Arrays](#toc2_)    \n",
    "  - [Loading a Single NumPy Array with `np.load()`](#toc2_1_)    \n",
    "  - [Loading Multiple NumPy Arrays with `np.load()`](#toc2_2_)    \n",
    "- [Saving and Loading NumPy Arrays in Text Format](#toc3_)    \n",
    "  - [Saving NumPy Arrays in Text Format with `np.savetxt()`](#toc3_1_)    \n",
    "  - [Loading NumPy Arrays from Text Format with `np.loadtxt()`](#toc3_2_)    \n",
    "- [Saving and Loading NumPy Objects in CSV Format](#toc4_)    \n",
    "  - [Saving NumPy Objects in CSV Format with `np.savetxt()`](#toc4_1_)    \n",
    "  - [Loading NumPy Objects from CSV Format with `np.genfromtxt()`](#toc4_2_)    \n",
    "- [Best Practices and Tips for Saving and Loading NumPy Objects](#toc5_)    \n",
    "\n",
    "<!-- vscode-jupyter-toc-config\n",
    "\tnumbering=false\n",
    "\tanchor=true\n",
    "\tflat=false\n",
    "\tminLevel=2\n",
    "\tmaxLevel=6\n",
    "\t/vscode-jupyter-toc-config -->\n",
    "<!-- THIS CELL WILL BE REPLACED ON TOC UPDATE. DO NOT WRITE YOUR TEXT IN THIS CELL -->"
   ]
  },
  {
   "cell_type": "markdown",
   "metadata": {},
   "source": [
    "## <a id='toc1_'></a>[Saving NumPy Arrays](#toc0_)"
   ]
  },
  {
   "cell_type": "markdown",
   "metadata": {},
   "source": [
    "NumPy provides several functions to save arrays to files in binary format. These functions allow you to save single or multiple arrays efficiently, preserving the data type and shape information. Let's explore the different methods for saving NumPy arrays.\n"
   ]
  },
  {
   "cell_type": "markdown",
   "metadata": {},
   "source": [
    "### <a id='toc1_1_'></a>[Saving a Single NumPy Array with `np.save()`](#toc0_)\n"
   ]
  },
  {
   "cell_type": "markdown",
   "metadata": {},
   "source": [
    "To save a single NumPy array to a file, you can use the `np.save()` function. This function saves the array in NumPy's native binary format with a `.npy` file extension.\n"
   ]
  },
  {
   "cell_type": "markdown",
   "metadata": {},
   "source": [
    "Here's an example of how to save a single array using `np.save()`:\n"
   ]
  },
  {
   "cell_type": "code",
   "execution_count": 3,
   "metadata": {},
   "outputs": [],
   "source": [
    "import numpy as np"
   ]
  },
  {
   "cell_type": "code",
   "execution_count": null,
   "metadata": {},
   "outputs": [],
   "source": [
    "# Create a sample array\n",
    "arr = np.array([1, 2, 3, 4, 5])\n",
    "\n",
    "# Save the array to a file\n",
    "np.save('my_array.npy', arr)"
   ]
  },
  {
   "cell_type": "markdown",
   "metadata": {},
   "source": [
    "In this example, we create a sample array `arr` and then use `np.save()` to save it to a file named `my_array.npy`. The first argument of `np.save()` is the filename, and the second argument is the array to be saved.\n"
   ]
  },
  {
   "cell_type": "markdown",
   "metadata": {},
   "source": [
    "### <a id='toc1_2_'></a>[Saving Multiple NumPy Arrays with `np.savez()`](#toc0_)\n"
   ]
  },
  {
   "cell_type": "markdown",
   "metadata": {},
   "source": [
    "If you have multiple NumPy arrays that you want to save to a single file, you can use the `np.savez()` function. This function saves multiple arrays in an uncompressed zip archive with a `.npz` file extension.\n"
   ]
  },
  {
   "cell_type": "markdown",
   "metadata": {},
   "source": [
    "Here's an example of how to save multiple arrays using `np.savez()`:\n"
   ]
  },
  {
   "cell_type": "code",
   "execution_count": 4,
   "metadata": {},
   "outputs": [],
   "source": [
    "# Create sample arrays\n",
    "arr1 = np.array([1, 2, 3])\n",
    "arr2 = np.array([4, 5, 6])\n",
    "\n",
    "# Save the arrays to a file\n",
    "np.savez('my_arrays.npz', array1=arr1, array2=arr2)"
   ]
  },
  {
   "cell_type": "markdown",
   "metadata": {},
   "source": [
    "In this example, we create two sample arrays, `arr1` and `arr2`. We then use `np.savez()` to save both arrays to a file named `my_arrays.npz`. The first argument of `np.savez()` is the filename, and the subsequent arguments are key-value pairs, where the key is the desired name for each array in the archive, and the value is the corresponding array.\n"
   ]
  },
  {
   "cell_type": "markdown",
   "metadata": {},
   "source": [
    "### <a id='toc1_3_'></a>[Saving NumPy Arrays in Compressed Format with `np.savez_compressed()`](#toc0_)\n"
   ]
  },
  {
   "cell_type": "markdown",
   "metadata": {},
   "source": [
    "If you have large NumPy arrays and want to save disk space, you can use the `np.savez_compressed()` function to save the arrays in a compressed format. This function is similar to `np.savez()` but applies compression to the zip archive.\n"
   ]
  },
  {
   "cell_type": "markdown",
   "metadata": {},
   "source": [
    "Here's an example of how to save arrays in compressed format using `np.savez_compressed()`:\n"
   ]
  },
  {
   "cell_type": "code",
   "execution_count": 5,
   "metadata": {},
   "outputs": [],
   "source": [
    "# Create sample arrays\n",
    "arr1 = np.random.rand(1000, 1000)\n",
    "arr2 = np.random.rand(500, 500)\n",
    "\n",
    "# Save the arrays to a compressed file\n",
    "np.savez_compressed('my_compressed_arrays.npz', array1=arr1, array2=arr2)"
   ]
  },
  {
   "cell_type": "markdown",
   "metadata": {},
   "source": [
    "In this example, we create two large sample arrays, `arr1` and `arr2`, using `np.random.rand()`. We then use `np.savez_compressed()` to save both arrays to a compressed file named `my_compressed_arrays.npz`. The syntax for `np.savez_compressed()` is the same as `np.savez()`, but the resulting file is compressed to save disk space.\n"
   ]
  },
  {
   "cell_type": "markdown",
   "metadata": {},
   "source": [
    "Saving NumPy arrays in binary format using `np.save()`, `np.savez()`, or `np.savez_compressed()` is efficient and preserves the data type and shape information. These functions provide a convenient way to store and persist your NumPy arrays for later use or sharing with others.\n"
   ]
  },
  {
   "cell_type": "markdown",
   "metadata": {},
   "source": [
    "## <a id='toc2_'></a>[Loading NumPy Arrays](#toc0_)"
   ]
  },
  {
   "cell_type": "markdown",
   "metadata": {},
   "source": [
    "Now that you know how to save NumPy arrays to files, let's explore how to load these arrays back into your Python environment. NumPy provides the `np.load()` function to load arrays from files saved in NumPy's binary format (`.npy` or `.npz`).\n"
   ]
  },
  {
   "cell_type": "markdown",
   "metadata": {},
   "source": [
    "### <a id='toc2_1_'></a>[Loading a Single NumPy Array with `np.load()`](#toc0_)\n"
   ]
  },
  {
   "cell_type": "markdown",
   "metadata": {},
   "source": [
    "To load a single NumPy array that was saved using `np.save()`, you can use the `np.load()` function. This function reads the array from the specified file and returns it as a NumPy array object.\n"
   ]
  },
  {
   "cell_type": "markdown",
   "metadata": {},
   "source": [
    "Here's an example of how to load a single array using `np.load()`:\n"
   ]
  },
  {
   "cell_type": "code",
   "execution_count": 6,
   "metadata": {},
   "outputs": [
    {
     "data": {
      "text/plain": [
       "array([1, 2, 3, 4, 5])"
      ]
     },
     "execution_count": 6,
     "metadata": {},
     "output_type": "execute_result"
    }
   ],
   "source": [
    "# Load the array from a file\n",
    "loaded_arr = np.load('my_array.npy')\n",
    "loaded_arr"
   ]
  },
  {
   "cell_type": "markdown",
   "metadata": {},
   "source": [
    "In this example, we use `np.load()` to load the array from the file named `my_array.npy`. The loaded array is assigned to the variable `loaded_arr`, which can be used for further computations or analysis.\n"
   ]
  },
  {
   "cell_type": "markdown",
   "metadata": {},
   "source": [
    "### <a id='toc2_2_'></a>[Loading Multiple NumPy Arrays with `np.load()`](#toc0_)\n"
   ]
  },
  {
   "cell_type": "markdown",
   "metadata": {},
   "source": [
    "If you have saved multiple NumPy arrays to a single file using `np.savez()` or `np.savez_compressed()`, you can use `np.load()` to load these arrays back into your Python environment.\n"
   ]
  },
  {
   "cell_type": "markdown",
   "metadata": {},
   "source": [
    "When loading multiple arrays from an `.npz` file, `np.load()` returns a dictionary-like object where the keys are the names of the arrays, and the values are the corresponding array objects.\n"
   ]
  },
  {
   "cell_type": "markdown",
   "metadata": {},
   "source": [
    "Here's an example of how to load multiple arrays using `np.load()`:\n"
   ]
  },
  {
   "cell_type": "code",
   "execution_count": 9,
   "metadata": {},
   "outputs": [],
   "source": [
    "# Load the arrays from a file\n",
    "loaded_arrays = np.load('my_arrays.npz')"
   ]
  },
  {
   "cell_type": "code",
   "execution_count": 10,
   "metadata": {},
   "outputs": [
    {
     "data": {
      "text/plain": [
       "array([1, 2, 3])"
      ]
     },
     "execution_count": 10,
     "metadata": {},
     "output_type": "execute_result"
    }
   ],
   "source": [
    "arr1 = loaded_arrays['array1']\n",
    "arr1"
   ]
  },
  {
   "cell_type": "code",
   "execution_count": 11,
   "metadata": {},
   "outputs": [
    {
     "data": {
      "text/plain": [
       "array([4, 5, 6])"
      ]
     },
     "execution_count": 11,
     "metadata": {},
     "output_type": "execute_result"
    }
   ],
   "source": [
    "arr2 = loaded_arrays['array2']\n",
    "arr2"
   ]
  },
  {
   "cell_type": "markdown",
   "metadata": {},
   "source": [
    "In this example, we use `np.load()` to load the arrays from the file named `my_arrays.npz`. The loaded arrays are stored in the `loaded_arrays` object, which behaves like a dictionary.\n"
   ]
  },
  {
   "cell_type": "markdown",
   "metadata": {},
   "source": [
    "To access individual arrays, you can use the keys specified when saving the arrays. In this case, we access `arr1` using `loaded_arrays['array1']` and `arr2` using `loaded_arrays['array2']`.\n"
   ]
  },
  {
   "cell_type": "markdown",
   "metadata": {},
   "source": [
    "If you have saved the arrays using `np.savez_compressed()`, the loading process remains the same. `np.load()` automatically detects and decompresses the compressed file.\n"
   ]
  },
  {
   "cell_type": "code",
   "execution_count": 12,
   "metadata": {},
   "outputs": [],
   "source": [
    "# Load the arrays from a compressed file\n",
    "loaded_arrays = np.load('my_compressed_arrays.npz')"
   ]
  },
  {
   "cell_type": "code",
   "execution_count": 13,
   "metadata": {},
   "outputs": [
    {
     "data": {
      "text/plain": [
       "array([[0.37012634, 0.07598265, 0.03674797, ..., 0.71801782, 0.77627288,\n",
       "        0.50371653],\n",
       "       [0.91898286, 0.2261085 , 0.18323455, ..., 0.87495302, 0.92716409,\n",
       "        0.55242062],\n",
       "       [0.3314843 , 0.8367039 , 0.54526957, ..., 0.12186663, 0.54467649,\n",
       "        0.45848951],\n",
       "       ...,\n",
       "       [0.23129265, 0.83632608, 0.30677383, ..., 0.28093898, 0.14377197,\n",
       "        0.18356692],\n",
       "       [0.63796942, 0.74436434, 0.15133989, ..., 0.11103941, 0.69841848,\n",
       "        0.38440125],\n",
       "       [0.13284989, 0.56042468, 0.49200024, ..., 0.56368511, 0.9537197 ,\n",
       "        0.7162631 ]])"
      ]
     },
     "execution_count": 13,
     "metadata": {},
     "output_type": "execute_result"
    }
   ],
   "source": [
    "arr1 = loaded_arrays['array1']\n",
    "arr1"
   ]
  },
  {
   "cell_type": "code",
   "execution_count": 14,
   "metadata": {},
   "outputs": [
    {
     "data": {
      "text/plain": [
       "array([[0.72915118, 0.45969486, 0.17570346, ..., 0.87922659, 0.05004222,\n",
       "        0.8218301 ],\n",
       "       [0.57222341, 0.39887775, 0.38593567, ..., 0.66233136, 0.61462594,\n",
       "        0.24733673],\n",
       "       [0.08552178, 0.43740855, 0.29450772, ..., 0.63861125, 0.7749852 ,\n",
       "        0.93367881],\n",
       "       ...,\n",
       "       [0.70019195, 0.26089914, 0.81049377, ..., 0.99152157, 0.9390035 ,\n",
       "        0.29237995],\n",
       "       [0.76865162, 0.35935272, 0.37060975, ..., 0.87443102, 0.58726629,\n",
       "        0.42566693],\n",
       "       [0.99152582, 0.66378044, 0.62480485, ..., 0.73316649, 0.53509189,\n",
       "        0.10816998]])"
      ]
     },
     "execution_count": 14,
     "metadata": {},
     "output_type": "execute_result"
    }
   ],
   "source": [
    "arr2 = loaded_arrays['array2']\n",
    "arr2"
   ]
  },
  {
   "cell_type": "markdown",
   "metadata": {},
   "source": [
    "Loading NumPy arrays from files using `np.load()` is straightforward and efficient. It allows you to retrieve previously saved arrays and use them in your Python environment for further analysis or computation.\n"
   ]
  },
  {
   "cell_type": "markdown",
   "metadata": {},
   "source": [
    "## <a id='toc3_'></a>[Saving and Loading NumPy Arrays in Text Format](#toc0_)"
   ]
  },
  {
   "cell_type": "markdown",
   "metadata": {},
   "source": [
    "In addition to saving and loading NumPy arrays in binary format, NumPy also provides functions to save and load arrays in plain text format. This can be useful when you want to share your data with others who may not have NumPy installed or when you need to read the data in a human-readable format.\n"
   ]
  },
  {
   "cell_type": "markdown",
   "metadata": {},
   "source": [
    "### <a id='toc3_1_'></a>[Saving NumPy Arrays in Text Format with `np.savetxt()`](#toc0_)\n"
   ]
  },
  {
   "cell_type": "markdown",
   "metadata": {},
   "source": [
    "To save a NumPy array in plain text format, you can use the `np.savetxt()` function. This function saves the array to a specified file, with each element separated by a delimiter (default is space).\n"
   ]
  },
  {
   "cell_type": "markdown",
   "metadata": {},
   "source": [
    "Here's an example of how to save an array in text format using `np.savetxt()`:\n"
   ]
  },
  {
   "cell_type": "code",
   "execution_count": 15,
   "metadata": {},
   "outputs": [],
   "source": [
    "# Create a sample array\n",
    "arr = np.array([[1, 2, 3], [4, 5, 6]])\n",
    "\n",
    "# Save the array to a text file\n",
    "np.savetxt('my_array.txt', arr, delimiter=',')"
   ]
  },
  {
   "cell_type": "markdown",
   "metadata": {},
   "source": [
    "In this example, we create a sample 2D array `arr`. We then use `np.savetxt()` to save the array to a file named `my_array.txt`. The first argument of `np.savetxt()` is the filename, and the second argument is the array to be saved.\n"
   ]
  },
  {
   "cell_type": "markdown",
   "metadata": {},
   "source": [
    "By default, `np.savetxt()` uses space as the delimiter between elements. However, you can specify a different delimiter using the `delimiter` parameter. In this case, we set `delimiter=','` to use a comma as the separator.\n"
   ]
  },
  {
   "cell_type": "markdown",
   "metadata": {},
   "source": [
    "The resulting `my_array.txt` file will look like this:\n"
   ]
  },
  {
   "cell_type": "markdown",
   "metadata": {},
   "source": [
    "```\n",
    "1,2,3\n",
    "4,5,6\n",
    "```\n"
   ]
  },
  {
   "cell_type": "markdown",
   "metadata": {},
   "source": [
    "You can also customize the format of the saved elements using the `fmt` parameter. For example, `fmt='%.2f'` will save the elements with two decimal places.\n"
   ]
  },
  {
   "cell_type": "markdown",
   "metadata": {},
   "source": [
    "### <a id='toc3_2_'></a>[Loading NumPy Arrays from Text Format with `np.loadtxt()`](#toc0_)\n"
   ]
  },
  {
   "cell_type": "markdown",
   "metadata": {},
   "source": [
    "To load a NumPy array that was saved in plain text format using `np.savetxt()`, you can use the `np.loadtxt()` function. This function reads the data from the specified file and returns it as a NumPy array.\n"
   ]
  },
  {
   "cell_type": "markdown",
   "metadata": {},
   "source": [
    "Here's an example of how to load an array from a text file using `np.loadtxt()`:\n"
   ]
  },
  {
   "cell_type": "code",
   "execution_count": 16,
   "metadata": {},
   "outputs": [
    {
     "data": {
      "text/plain": [
       "array([[1., 2., 3.],\n",
       "       [4., 5., 6.]])"
      ]
     },
     "execution_count": 16,
     "metadata": {},
     "output_type": "execute_result"
    }
   ],
   "source": [
    "# Load the array from a text file\n",
    "loaded_arr = np.loadtxt('my_array.txt', delimiter=',')\n",
    "loaded_arr"
   ]
  },
  {
   "cell_type": "markdown",
   "metadata": {},
   "source": [
    "In this example, we use `np.loadtxt()` to load the array from the file named `my_array.txt`. The first argument of `np.loadtxt()` is the filename, and the `delimiter` parameter is set to `','` to match the delimiter used when saving the array.\n"
   ]
  },
  {
   "cell_type": "markdown",
   "metadata": {},
   "source": [
    "The loaded array is assigned to the variable `loaded_arr`, which can be used for further computations or analysis.\n"
   ]
  },
  {
   "cell_type": "markdown",
   "metadata": {},
   "source": [
    "By default, `np.loadtxt()` infers the data type of the loaded elements automatically. However, you can specify the desired data type using the `dtype` parameter. For example, `dtype=int` will load the elements as integers.\n"
   ]
  },
  {
   "cell_type": "markdown",
   "metadata": {},
   "source": [
    "Saving and loading NumPy arrays in text format using `np.savetxt()` and `np.loadtxt()` provides a simple and readable way to store and share your data. It allows you to work with NumPy arrays in a format that can be easily read by other programs or humans.\n"
   ]
  },
  {
   "cell_type": "markdown",
   "metadata": {},
   "source": [
    "## <a id='toc4_'></a>[Saving and Loading NumPy Objects in CSV Format](#toc0_)"
   ]
  },
  {
   "cell_type": "markdown",
   "metadata": {},
   "source": [
    "Comma-separated values (CSV) is a common format for storing and exchanging tabular data. NumPy provides functions to save and load objects in CSV format, making it easy to work with data in a widely compatible format.\n"
   ]
  },
  {
   "cell_type": "markdown",
   "metadata": {},
   "source": [
    "### <a id='toc4_1_'></a>[Saving NumPy Objects in CSV Format with `np.savetxt()`](#toc0_)\n"
   ]
  },
  {
   "cell_type": "markdown",
   "metadata": {},
   "source": [
    "To save a NumPy object (array or structured array) in CSV format, you can use the `np.savetxt()` function. This function saves the object to a specified file, with each row representing a data record and each column separated by a delimiter (default is a space).\n"
   ]
  },
  {
   "cell_type": "markdown",
   "metadata": {},
   "source": [
    "Here's an example of how to save a NumPy array in CSV format using `np.savetxt()`:\n"
   ]
  },
  {
   "cell_type": "code",
   "execution_count": 17,
   "metadata": {},
   "outputs": [],
   "source": [
    "# Create a sample array\n",
    "arr = np.array([[1, 2, 3], [4, 5, 6]])\n",
    "\n",
    "# Save the array to a CSV file\n",
    "np.savetxt('my_data.csv', arr, delimiter=',', header='Column1,Column2,Column3', comments='')"
   ]
  },
  {
   "cell_type": "markdown",
   "metadata": {},
   "source": [
    "In this example, we create a sample 2D array `arr`. We then use `np.savetxt()` to save the array to a file named `my_data.csv`. The first argument of `np.savetxt()` is the filename, and the second argument is the array to be saved.\n"
   ]
  },
  {
   "cell_type": "markdown",
   "metadata": {},
   "source": [
    "We set the `delimiter` parameter to `','` to use a comma as the separator between elements. The `header` parameter is used to specify the column names as a string, which will be written as the first line of the CSV file. The `comments` parameter is set to an empty string to suppress any default comments in the output file.\n"
   ]
  },
  {
   "cell_type": "markdown",
   "metadata": {},
   "source": [
    "The resulting `my_data.csv` file will look like this:\n"
   ]
  },
  {
   "cell_type": "markdown",
   "metadata": {},
   "source": [
    "```\n",
    "Column1,Column2,Column3\n",
    "1,2,3\n",
    "4,5,6\n",
    "```\n"
   ]
  },
  {
   "cell_type": "markdown",
   "metadata": {},
   "source": [
    "You can also customize the format of the saved elements using the `fmt` parameter, similar to saving arrays in text format.\n"
   ]
  },
  {
   "cell_type": "markdown",
   "metadata": {},
   "source": [
    "### <a id='toc4_2_'></a>[Loading NumPy Objects from CSV Format with `np.genfromtxt()`](#toc0_)\n"
   ]
  },
  {
   "cell_type": "markdown",
   "metadata": {},
   "source": [
    "To load a NumPy object that was saved in CSV format, you can use the `np.genfromtxt()` function. This function reads the data from the specified CSV file and returns it as a NumPy array or a structured array.\n"
   ]
  },
  {
   "cell_type": "markdown",
   "metadata": {},
   "source": [
    "Here's an example of how to load an array from a CSV file using `np.genfromtxt()`:\n"
   ]
  },
  {
   "cell_type": "code",
   "execution_count": 18,
   "metadata": {},
   "outputs": [
    {
     "data": {
      "text/plain": [
       "array([[1., 2., 3.],\n",
       "       [4., 5., 6.]])"
      ]
     },
     "execution_count": 18,
     "metadata": {},
     "output_type": "execute_result"
    }
   ],
   "source": [
    "# Load the array from a CSV file\n",
    "loaded_arr = np.genfromtxt('my_data.csv', delimiter=',', skip_header=1)\n",
    "loaded_arr"
   ]
  },
  {
   "cell_type": "markdown",
   "metadata": {},
   "source": [
    "In this example, we use `np.genfromtxt()` to load the array from the file named `my_data.csv`. The first argument of `np.genfromtxt()` is the filename, and the `delimiter` parameter is set to `','` to match the delimiter used when saving the array.\n"
   ]
  },
  {
   "cell_type": "markdown",
   "metadata": {},
   "source": [
    "The `skip_header` parameter is set to `1` to skip the first line of the CSV file, which contains the column names.\n"
   ]
  },
  {
   "cell_type": "markdown",
   "metadata": {},
   "source": [
    "By default, `np.genfromtxt()` infers the data type of the loaded elements automatically. However, you can specify the desired data types using the `dtype` parameter. For example, `dtype=[('Column1', int), ('Column2', float), ('Column3', float)]` will load the elements into a structured array with specified column names and data types.\n"
   ]
  },
  {
   "cell_type": "markdown",
   "metadata": {},
   "source": [
    "Saving and loading NumPy objects in CSV format using `np.savetxt()` and `np.genfromtxt()` provides a convenient way to work with tabular data that can be easily shared and processed by other programs, such as spreadsheet software or data analysis tools.\n"
   ]
  },
  {
   "cell_type": "markdown",
   "metadata": {},
   "source": [
    "## <a id='toc5_'></a>[Best Practices and Tips for Saving and Loading NumPy Objects](#toc0_)"
   ]
  },
  {
   "cell_type": "markdown",
   "metadata": {},
   "source": [
    "When saving and loading NumPy objects, there are several best practices and tips to keep in mind to ensure efficiency, compatibility, and ease of use. Let's explore some of these practices and tips.\n",
    "\n",
    "1. **Choose the appropriate file format:**\n",
    "   - Use NumPy's native binary format (`.npy` or `.npz`) for efficient storage and fast loading of NumPy arrays.\n",
    "   - Use text format (`.txt`) or CSV format (`.csv`) when you need human-readable files or compatibility with other programs.\n",
    "   - Consider using compressed format (`.npz`) with `np.savez_compressed()` for large arrays to save disk space.\n",
    "\n",
    "2. **Use descriptive filenames and variable names:**\n",
    "   - Choose meaningful and descriptive filenames when saving NumPy objects to files.\n",
    "   - Use clear and concise variable names when saving multiple arrays with `np.savez()` or `np.savez_compressed()`.\n",
    "   - Include relevant information such as the dataset name, version, or timestamp in the filename.\n",
    "\n",
    "3. **Document your data:**\n",
    "   - Include metadata or documentation along with your saved NumPy objects.\n",
    "   - Use comments or headers to describe the content, structure, and purpose of the saved data.\n",
    "   - Consider creating a separate README file to provide additional information about the dataset.\n",
    "\n",
    "4. **Handle missing or invalid data:**\n",
    "   - Be aware of how missing or invalid data is represented in your NumPy objects (e.g., NaN, -9999).\n",
    "   - Use appropriate techniques to handle missing data when saving and loading, such as using masks or sentinel values.\n",
    "   - Document the convention used for missing data in your metadata or README file.\n",
    "\n",
    "5. **Use appropriate data types:**\n",
    "   - Choose the appropriate data types for your NumPy objects to optimize memory usage and performance.\n",
    "   - Use the smallest data type that can accurately represent your data (e.g., `float32` instead of `float64` if precision is not critical).\n",
    "   - Specify the desired data types when loading data with `np.load()` or `np.genfromtxt()` to avoid unnecessary type conversions.\n",
    "\n",
    "6. **Be cautious with large datasets:**\n",
    "   - Be mindful of memory constraints when working with large datasets.\n",
    "   - Consider loading data in chunks or using memory-mapped files with `np.memmap()` for efficient processing of large arrays.\n",
    "   - Use appropriate compression techniques (e.g., `np.savez_compressed()`) to reduce file sizes.\n",
    "\n",
    "7. **Use relative paths or configure file paths:**\n",
    "   - Use relative file paths when saving and loading NumPy objects to ensure portability across different systems.\n",
    "   - Consider configuring file paths using configuration files or environment variables to make your code more flexible.\n",
    "\n",
    "8. **Validate loaded data:**\n",
    "   - Perform data validation checks after loading NumPy objects from files.\n",
    "   - Verify the shape, data type, and range of loaded arrays to ensure data integrity.\n",
    "   - Handle any inconsistencies or errors gracefully and provide informative error messages.\n",
    "\n",
    "9. **Use version control and backups:**\n",
    "   - Incorporate version control systems (e.g., Git) to track changes in your NumPy objects and related code.\n",
    "   - Regularly backup your saved NumPy objects to prevent data loss due to system failures or accidental deletions.\n",
    "\n",
    "10. **Optimize performance:**\n",
    "    - Use efficient data structures and algorithms when working with NumPy objects.\n",
    "    - Vectorize operations whenever possible to leverage NumPy's performance optimizations.\n",
    "    - Consider using parallel processing techniques (e.g., `np.vectorize()`, `np.apply_along_axis()`) for computationally intensive tasks.\n"
   ]
  },
  {
   "cell_type": "markdown",
   "metadata": {},
   "source": [
    "By following these best practices and tips, you can ensure that your NumPy objects are saved and loaded efficiently, maintainable, and compatible with your desired workflows. Remember to adapt these practices based on your specific requirements and the nature of your data."
   ]
  }
 ],
 "metadata": {
  "kernelspec": {
   "display_name": "py310",
   "language": "python",
   "name": "python3"
  },
  "language_info": {
   "codemirror_mode": {
    "name": "ipython",
    "version": 3
   },
   "file_extension": ".py",
   "mimetype": "text/x-python",
   "name": "python",
   "nbconvert_exporter": "python",
   "pygments_lexer": "ipython3",
   "version": "3.10.12"
  }
 },
 "nbformat": 4,
 "nbformat_minor": 2
}
